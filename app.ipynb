{
 "cells": [
  {
   "cell_type": "code",
   "execution_count": 1,
   "metadata": {},
   "outputs": [],
   "source": [
    "def predictEnsemble(sample):\n",
    "    import pickle\n",
    "    from tensorflow.keras.models import load_model\n",
    "\n",
    "    scaler = pickle.load(open(\"resources/scaler.pkl\", 'rb'))\n",
    "    dnnClf = load_model('resources/dnn_model.h5')\n",
    "    svmClf = pickle.load(open(\"resources/svm_model.sav\", 'rb'))\n",
    "    rfClf = pickle.load(open(\"resources/rf_model.sav\", 'rb'))\n",
    "\n",
    "    dnnPred = dnnClf.predict(scaler.transform(sample.reshape(1,-1))).tolist()[0][0]\n",
    "    svmPred = svmClf.predict(sample.reshape(1,-1)).tolist()[0]\n",
    "    rfPred = rfClf.predict(sample.reshape(1,-1)).tolist()[0]\n",
    "    \n",
    "    ensPred = []\n",
    "    ensPred.append([dnnPred,svmPred,rfPred])\n",
    "    print(ensPred)\n",
    "    ensPred = [round(i) for i in ensPred[0]]\n",
    "    \n",
    "    return(max(set(ensPred), key=ensPred.count)) # return mode, i.e: most frequent"
   ]
  },
  {
   "cell_type": "code",
   "execution_count": 2,
   "metadata": {},
   "outputs": [],
   "source": [
    "def predictMatchByID(B,R):\n",
    "    import pandas as pd\n",
    "    df = pd.read_csv(\"FIGHTER_STAT.csv\")\n",
    "    \n",
    "    blueFighter = df[df[\"ID\"] == B].iloc[:,3:]\n",
    "    blueFighter.columns = ['B_'+col for col in blueFighter.columns] #concat prefix B_ and rename columns\n",
    "    redFighter = df[df[\"ID\"] == R].iloc[:,3:]\n",
    "    redFighter.columns = ['R_'+col for col in redFighter.columns]\n",
    "\n",
    "    blueFighter.reset_index(drop=True,inplace=True)\n",
    "    redFighter.reset_index(drop=True,inplace=True)\n",
    "    toPredict = pd.concat([blueFighter,redFighter],axis=1).values\n",
    "    \n",
    "    return(predictEnsemble(toPredict))"
   ]
  },
  {
   "cell_type": "code",
   "execution_count": 3,
   "metadata": {},
   "outputs": [
    {
     "name": "stdout",
     "output_type": "stream",
     "text": [
      "WARNING:tensorflow:Sequential models without an `input_shape` passed to the first layer cannot reload their optimizer state. As a result, your model isstarting with a freshly initialized optimizer.\n",
      "[[0.49898189306259155, 1, 0.49]]\n",
      "0\n"
     ]
    }
   ],
   "source": [
    "pred = predictMatchByID(11,12)\n",
    "print(pred)"
   ]
  }
 ],
 "metadata": {
  "kernelspec": {
   "display_name": "Python 3",
   "language": "python",
   "name": "python3"
  },
  "language_info": {
   "codemirror_mode": {
    "name": "ipython",
    "version": 3
   },
   "file_extension": ".py",
   "mimetype": "text/x-python",
   "name": "python",
   "nbconvert_exporter": "python",
   "pygments_lexer": "ipython3",
   "version": "3.7.4"
  }
 },
 "nbformat": 4,
 "nbformat_minor": 4
}
