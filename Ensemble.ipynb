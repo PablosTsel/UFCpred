{
 "cells": [
  {
   "cell_type": "markdown",
   "metadata": {},
   "source": [
    "# Machine Learning Models and Ensemble Method\n",
    "---\n"
   ]
  },
  {
   "cell_type": "code",
   "execution_count": 6,
   "metadata": {},
   "outputs": [],
   "source": [
    "import os\n",
    "os.environ[\"CUDA_VISIBLE_DEVICES\"] = \"-1\" # disable GPU\n",
    "import pandas as pd\n",
    "import numpy as np\n",
    "import matplotlib.pyplot as plt\n",
    "%matplotlib inline\n",
    "\n",
    "from sklearn.model_selection import train_test_split\n",
    "from sklearn.preprocessing import MinMaxScaler\n",
    "import tensorflow as tf\n",
    "from tensorflow.keras.models import Sequential\n",
    "from tensorflow.keras.layers import Dense, Activation,Dropout\n",
    "\n",
    "SEED = 111 # constant seed for reproducibility\n",
    "os.environ['PYTHONHASHSEED'] = str(SEED)\n",
    "np.random.seed(SEED)\n",
    "tf.random.set_seed(SEED)\n"
   ]
  },
  {
   "cell_type": "markdown",
   "metadata": {},
   "source": [
    "## Train/Test Split:"
   ]
  },
  {
   "cell_type": "code",
   "execution_count": 7,
   "metadata": {},
   "outputs": [],
   "source": [
    "df = pd.read_csv(\"UFC_TRAIN.csv\")\n",
    "\n",
    "# train/test split\n",
    "X = df.drop([\"Winner\",\"B_fighter\",\"R_fighter\"], axis=1).values\n",
    "y = df[\"Winner\"].values\n",
    "X_TRAIN, X_TEST, y_TRAIN, y_TEST = train_test_split(X,y, test_size=0.2, random_state=SEED)\n",
    "\n",
    "# tackling imbalance issue\n",
    "#theMin = UFC_FINAL[\"Winner\"].value_counts().min()\n",
    "#minority = UFC_FINAL[UFC_FINAL[\"Winner\"]==\"Blue\"].iloc[0:theMin]\n",
    "#undersampleMaj = UFC_FINAL[UFC_FINAL[\"Winner\"]==\"Red\"].iloc[0:theMin]\n",
    "#UFC_FINAL = pd.concat([minority, undersampleMaj], axis=0)\n",
    "#UFC_FINAL = UFC_FINAL.sample(frac=1).reset_index(drop=True)\n",
    "#UFC_FINAL[\"Winner\"].value_counts()"
   ]
  },
  {
   "cell_type": "markdown",
   "metadata": {},
   "source": [
    "## ML Models\n",
    "### 1- DNN:"
   ]
  },
  {
   "cell_type": "code",
   "execution_count": null,
   "metadata": {
    "scrolled": true
   },
   "outputs": [],
   "source": [
    "# scaling\n",
    "scaler = MinMaxScaler()\n",
    "scaler.fit(X_TRAIN)\n",
    "X_train = scaler.transform(X_TRAIN)\n",
    "X_test = scaler.transform(X_TEST)\n",
    "y_train = y_TRAIN\n",
    "y_test = y_TEST\n",
    "print(f\"X_train shape: {X_train.shape} | X_test shape: {X_test.shape} | y_train shape: {y_train.shape} | y_test shape: {y_test.shape}\")\n",
    "\n",
    "# model\n",
    "model = Sequential()\n",
    "\n",
    "# input layer\n",
    "model.add(Dense(units=42, activation='relu'))\n",
    "model.add(Dropout(0.5)) # deactivates 50% of nodes\n",
    "\n",
    "# h1\n",
    "model.add(Dense(units=42, activation='relu'))\n",
    "model.add(Dropout(0.5))\n",
    "'''\n",
    "# h2\n",
    "model.add(Dense(units=42, activation='relu'))\n",
    "model.add(Dropout(0.5))\n",
    "\n",
    "# h3\n",
    "model.add(Dense(units=20, activation='relu'))\n",
    "model.add(Dropout(0.5))\n",
    "'''\n",
    "# output layer\n",
    "model.add(Dense(units=1, activation='sigmoid'))\n",
    "\n",
    "model.compile(loss='binary_crossentropy', optimizer='adam', metrics=['accuracy'])\n",
    "\n",
    "from tensorflow.keras.callbacks import EarlyStopping # prevent diverge of loss & val_loss\n",
    "early_stop = EarlyStopping(monitor='val_loss', mode='min', verbose=1, patience=32)"
   ]
  },
  {
   "cell_type": "markdown",
   "metadata": {},
   "source": [
    "##### without PCA Performance"
   ]
  },
  {
   "cell_type": "code",
   "execution_count": null,
   "metadata": {
    "scrolled": true
   },
   "outputs": [],
   "source": [
    "model.fit(x=X_train, \n",
    "          y=y_train, \n",
    "          epochs=100,\n",
    "          validation_data=(X_test, y_test), verbose=1,\n",
    "          callbacks=[early_stop]\n",
    "          )\n",
    "model_loss = pd.DataFrame(model.history.history)\n",
    "model_loss.plot()"
   ]
  },
  {
   "cell_type": "markdown",
   "metadata": {},
   "source": [
    "### DNN on PCA-Performed Dataset:"
   ]
  },
  {
   "cell_type": "code",
   "execution_count": null,
   "metadata": {},
   "outputs": [],
   "source": [
    "UFC_PCA = pd.read_csv(\"UFC_PCA.csv\")\n",
    "\n",
    "UFC_PCA[\"Winner\"] = UFC_PCA[\"Winner\"].replace(\"Blue\",1)\n",
    "UFC_PCA[\"Winner\"] = UFC_PCA[\"Winner\"].replace(\"Red\",0)\n",
    "\n",
    "# train/test split\n",
    "X_pca = UFC_PCA.iloc[:,1:].values\n",
    "y_pca = UFC_PCA[\"Winner\"].values\n",
    "X_train_pca, X_test_pca, y_train_pca, y_test_pca = train_test_split(X_pca, y_pca, test_size=0.3, random_state=101)\n",
    "\n",
    "# scaling\n",
    "scaler_pca = MinMaxScaler()\n",
    "scaler_pca.fit(X_train_pca)\n",
    "X_train_pca = scaler_pca.transform(X_train_pca)\n",
    "X_test_pca = scaler_pca.transform(X_test_pca)\n",
    "\n",
    "print(f\"X_train shape: {X_train_pca.shape} | X_test shape: {X_test_pca.shape} | y_train shape: {y_train_pca.shape} | y_test shape: {y_test_pca.shape}\")\n",
    "\n",
    "# model\n",
    "model = Sequential()\n",
    "\n",
    "# input layer\n",
    "model.add(Dense(units=42, activation='relu'))\n",
    "model.add(Dropout(0.5)) # deactivates 50% of nodes\n",
    "\n",
    "# h1\n",
    "model.add(Dense(units=42, activation='relu'))\n",
    "model.add(Dropout(0.5))\n",
    "\n",
    "# h2\n",
    "model.add(Dense(units=42, activation='relu'))\n",
    "model.add(Dropout(0.5))\n",
    "\n",
    "# h3\n",
    "model.add(Dense(units=20, activation='relu'))\n",
    "model.add(Dropout(0.5))\n",
    "\n",
    "# output layer\n",
    "model.add(Dense(units=1, activation='sigmoid'))\n",
    "\n",
    "model.compile(loss='binary_crossentropy', optimizer='adam', metrics=['accuracy'])\n",
    "\n",
    "from tensorflow.keras.callbacks import EarlyStopping # prevent diverge of loss & val_loss\n",
    "early_stop = EarlyStopping(monitor='val_loss', mode='min', verbose=1, patience=16)"
   ]
  },
  {
   "cell_type": "markdown",
   "metadata": {},
   "source": [
    "##### PCA Performance:"
   ]
  },
  {
   "cell_type": "code",
   "execution_count": null,
   "metadata": {
    "scrolled": true
   },
   "outputs": [],
   "source": [
    "model.fit(x=X_train_pca, \n",
    "          y=y_train_pca, \n",
    "          epochs=10,\n",
    "          validation_data=(X_test_pca, y_test_pca), verbose=1,\n",
    "          callbacks=[early_stop]\n",
    "          )\n",
    "\n",
    "model_loss = pd.DataFrame(model.history.history)\n",
    "model_loss.plot()"
   ]
  },
  {
   "cell_type": "code",
   "execution_count": null,
   "metadata": {},
   "outputs": [],
   "source": []
  }
 ],
 "metadata": {
  "kernelspec": {
   "display_name": "Python 3",
   "language": "python",
   "name": "python3"
  },
  "language_info": {
   "codemirror_mode": {
    "name": "ipython",
    "version": 3
   },
   "file_extension": ".py",
   "mimetype": "text/x-python",
   "name": "python",
   "nbconvert_exporter": "python",
   "pygments_lexer": "ipython3",
   "version": "3.7.4"
  }
 },
 "nbformat": 4,
 "nbformat_minor": 4
}
