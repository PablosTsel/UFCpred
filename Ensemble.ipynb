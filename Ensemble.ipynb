{
 "cells": [
  {
   "cell_type": "markdown",
   "metadata": {},
   "source": [
    "# Machine Learning Models and Ensemble Method\n",
    "---\n"
   ]
  },
  {
   "cell_type": "code",
   "execution_count": 1,
   "metadata": {},
   "outputs": [],
   "source": [
    "import os\n",
    "os.environ[\"CUDA_VISIBLE_DEVICES\"] = \"-1\" # disable GPU\n",
    "import pandas as pd\n",
    "import numpy as np\n",
    "import matplotlib.pyplot as plt\n",
    "import seaborn as sns\n",
    "%matplotlib inline\n",
    "\n",
    "from sklearn.model_selection import train_test_split\n",
    "from sklearn.preprocessing import MinMaxScaler\n",
    "from sklearn import metrics\n",
    "from sklearn.svm import SVC\n",
    "from sklearn.ensemble import RandomForestRegressor\n",
    "from sklearn.model_selection import GridSearchCV\n",
    "import tensorflow as tf\n",
    "from tensorflow.keras.models import Sequential\n",
    "from tensorflow.keras.layers import Dense, Activation,Dropout\n",
    "\n",
    "SEED = 111 # constant seed for reproducibility\n",
    "#os.environ['PYTHONHASHSEED'] = str(SEED)\n",
    "#np.random.seed(SEED)\n",
    "#tf.random.set_seed(SEED)\n"
   ]
  },
  {
   "cell_type": "markdown",
   "metadata": {},
   "source": [
    "## Train/Test Split:"
   ]
  },
  {
   "cell_type": "code",
   "execution_count": 2,
   "metadata": {},
   "outputs": [],
   "source": [
    "df = pd.read_csv(\"UFC_TRAIN.csv\")\n",
    "\n",
    "# tackling imbalance issue\n",
    "theMin = df[\"Winner\"].value_counts().min()\n",
    "minority = df[df[\"Winner\"]==1].iloc[0:theMin]\n",
    "undersampleMaj = df[df[\"Winner\"]==0].iloc[0:theMin]\n",
    "df = pd.concat([minority, undersampleMaj], axis=0)\n",
    "df[\"Winner\"].value_counts()\n",
    "\n",
    "# train/test split\n",
    "X = df.drop([\"Winner\",\"B_fighter\",\"R_fighter\"], axis=1).values\n",
    "y = df[\"Winner\"].values\n",
    "X_TRAIN, X_TEST, y_TRAIN, y_TEST = train_test_split(X,y, test_size=0.1, random_state=SEED)\n",
    "\n"
   ]
  },
  {
   "cell_type": "markdown",
   "metadata": {},
   "source": [
    "#### Baseline: Always predict red (i.e: 0)"
   ]
  },
  {
   "cell_type": "code",
   "execution_count": 3,
   "metadata": {},
   "outputs": [
    {
     "data": {
      "text/plain": [
       "0.5"
      ]
     },
     "execution_count": 3,
     "metadata": {},
     "output_type": "execute_result"
    }
   ],
   "source": [
    "metrics.accuracy_score(np.zeros(len(df.index)),df[\"Winner\"])"
   ]
  },
  {
   "cell_type": "markdown",
   "metadata": {},
   "source": [
    "Baseline accuracy is 67.96 % in unbalanced dataset"
   ]
  },
  {
   "cell_type": "markdown",
   "metadata": {},
   "source": [
    "## ML Models\n",
    "### 1- DNN:\n",
    "Using a deep neural network with early stopping functionality to prevent divergence of loss & val_loss"
   ]
  },
  {
   "cell_type": "code",
   "execution_count": 4,
   "metadata": {
    "scrolled": true
   },
   "outputs": [
    {
     "name": "stdout",
     "output_type": "stream",
     "text": [
      "X_train shape: (2404, 42) | X_test shape: (268, 42) | y_train shape: (2404,) | y_test shape: (268,)\n"
     ]
    }
   ],
   "source": [
    "# scaling\n",
    "scaler = MinMaxScaler()\n",
    "scaler.fit(X_TRAIN)\n",
    "X_train = scaler.transform(X_TRAIN)\n",
    "X_test = scaler.transform(X_TEST)\n",
    "y_train = y_TRAIN\n",
    "y_test = y_TEST\n",
    "print(f\"X_train shape: {X_train.shape} | X_test shape: {X_test.shape} | y_train shape: {y_train.shape} | y_test shape: {y_test.shape}\")\n",
    "\n",
    "# model\n",
    "dnnClf = Sequential()\n",
    "\n",
    "# input layer\n",
    "dnnClf.add(Dense(units=42, activation='relu'))\n",
    "dnnClf.add(Dropout(0.5)) # deactivates 50% of nodes\n",
    "\n",
    "dnnClf.add(Dense(units=42, activation='relu'))\n",
    "dnnClf.add(Dropout(0.5)) # deactivates 50% of nodes\n",
    "\n",
    "#dnnClf.add(Dense(units=42, activation='relu'))\n",
    "#dnnClf.add(Dropout(0.5)) # deactivates 50% of nodes\n",
    "\n",
    "#dnnClf.add(Dense(units=42, activation='relu'))\n",
    "\n",
    "#dnnClf.add(Dense(units=42, activation='relu'))\n",
    "\n",
    "# output layer\n",
    "dnnClf.add(Dense(units=1, activation='sigmoid'))\n",
    "\n",
    "dnnClf.compile(loss='binary_crossentropy', optimizer='adam', metrics=['accuracy'])\n",
    "\n",
    "from tensorflow.keras.callbacks import EarlyStopping # prevent divergence of loss & val_loss\n",
    "early_stop = EarlyStopping(monitor='val_loss', mode='min', verbose=1, patience=16)"
   ]
  },
  {
   "cell_type": "code",
   "execution_count": 5,
   "metadata": {
    "scrolled": true
   },
   "outputs": [
    {
     "name": "stdout",
     "output_type": "stream",
     "text": [
      "Train on 2404 samples, validate on 268 samples\n",
      "Epoch 1/400\n",
      "2404/2404 [==============================] - 2s 809us/sample - loss: 0.7047 - accuracy: 0.5137 - val_loss: 0.6904 - val_accuracy: 0.5224\n",
      "Epoch 2/400\n",
      "2404/2404 [==============================] - 0s 146us/sample - loss: 0.6939 - accuracy: 0.5220 - val_loss: 0.6937 - val_accuracy: 0.5037\n",
      "Epoch 3/400\n",
      "2404/2404 [==============================] - 0s 150us/sample - loss: 0.6883 - accuracy: 0.5524 - val_loss: 0.6913 - val_accuracy: 0.5075\n",
      "Epoch 4/400\n",
      "2404/2404 [==============================] - 0s 147us/sample - loss: 0.6903 - accuracy: 0.5324 - val_loss: 0.6912 - val_accuracy: 0.5299\n",
      "Epoch 5/400\n",
      "2404/2404 [==============================] - 0s 143us/sample - loss: 0.6869 - accuracy: 0.5354 - val_loss: 0.6889 - val_accuracy: 0.5261\n",
      "Epoch 6/400\n",
      "2404/2404 [==============================] - 0s 141us/sample - loss: 0.6818 - accuracy: 0.5591 - val_loss: 0.6839 - val_accuracy: 0.5560\n",
      "Epoch 7/400\n",
      "2404/2404 [==============================] - 0s 145us/sample - loss: 0.6790 - accuracy: 0.5678 - val_loss: 0.6798 - val_accuracy: 0.5522\n",
      "Epoch 8/400\n",
      "2404/2404 [==============================] - 0s 147us/sample - loss: 0.6777 - accuracy: 0.5711 - val_loss: 0.6773 - val_accuracy: 0.5485\n",
      "Epoch 9/400\n",
      "2404/2404 [==============================] - 0s 144us/sample - loss: 0.6763 - accuracy: 0.5857 - val_loss: 0.6769 - val_accuracy: 0.5709\n",
      "Epoch 10/400\n",
      "2404/2404 [==============================] - 0s 145us/sample - loss: 0.6730 - accuracy: 0.5782 - val_loss: 0.6709 - val_accuracy: 0.5858\n",
      "Epoch 11/400\n",
      "2404/2404 [==============================] - 0s 146us/sample - loss: 0.6728 - accuracy: 0.5857 - val_loss: 0.6694 - val_accuracy: 0.5858\n",
      "Epoch 12/400\n",
      "2404/2404 [==============================] - 0s 145us/sample - loss: 0.6699 - accuracy: 0.5936 - val_loss: 0.6711 - val_accuracy: 0.5933\n",
      "Epoch 13/400\n",
      "2404/2404 [==============================] - 0s 145us/sample - loss: 0.6664 - accuracy: 0.6027 - val_loss: 0.6805 - val_accuracy: 0.5896\n",
      "Epoch 14/400\n",
      "2404/2404 [==============================] - 0s 151us/sample - loss: 0.6670 - accuracy: 0.5973 - val_loss: 0.6729 - val_accuracy: 0.5858\n",
      "Epoch 15/400\n",
      "2404/2404 [==============================] - 0s 144us/sample - loss: 0.6637 - accuracy: 0.5936 - val_loss: 0.6596 - val_accuracy: 0.6231\n",
      "Epoch 16/400\n",
      "2404/2404 [==============================] - 0s 140us/sample - loss: 0.6601 - accuracy: 0.5978 - val_loss: 0.6693 - val_accuracy: 0.6007\n",
      "Epoch 17/400\n",
      "2404/2404 [==============================] - 0s 149us/sample - loss: 0.6629 - accuracy: 0.5940 - val_loss: 0.6653 - val_accuracy: 0.5970\n",
      "Epoch 18/400\n",
      "2404/2404 [==============================] - 0s 147us/sample - loss: 0.6571 - accuracy: 0.6094 - val_loss: 0.6563 - val_accuracy: 0.6007\n",
      "Epoch 19/400\n",
      "2404/2404 [==============================] - 0s 145us/sample - loss: 0.6598 - accuracy: 0.6073 - val_loss: 0.6650 - val_accuracy: 0.6007\n",
      "Epoch 20/400\n",
      "2404/2404 [==============================] - 0s 144us/sample - loss: 0.6521 - accuracy: 0.6161 - val_loss: 0.6625 - val_accuracy: 0.5858\n",
      "Epoch 21/400\n",
      "2404/2404 [==============================] - 0s 140us/sample - loss: 0.6528 - accuracy: 0.6165 - val_loss: 0.6660 - val_accuracy: 0.5970\n",
      "Epoch 22/400\n",
      "2404/2404 [==============================] - 0s 146us/sample - loss: 0.6555 - accuracy: 0.6023 - val_loss: 0.6629 - val_accuracy: 0.6007\n",
      "Epoch 23/400\n",
      "2404/2404 [==============================] - 0s 146us/sample - loss: 0.6479 - accuracy: 0.6231 - val_loss: 0.6626 - val_accuracy: 0.6007\n",
      "Epoch 24/400\n",
      "2404/2404 [==============================] - 0s 145us/sample - loss: 0.6520 - accuracy: 0.6152 - val_loss: 0.6540 - val_accuracy: 0.6119\n",
      "Epoch 25/400\n",
      "2404/2404 [==============================] - 0s 140us/sample - loss: 0.6428 - accuracy: 0.6285 - val_loss: 0.6569 - val_accuracy: 0.5933\n",
      "Epoch 26/400\n",
      "2404/2404 [==============================] - 0s 143us/sample - loss: 0.6465 - accuracy: 0.6140 - val_loss: 0.6662 - val_accuracy: 0.6007\n",
      "Epoch 27/400\n",
      "2404/2404 [==============================] - 0s 141us/sample - loss: 0.6503 - accuracy: 0.6161 - val_loss: 0.6606 - val_accuracy: 0.6007\n",
      "Epoch 28/400\n",
      "2404/2404 [==============================] - 0s 141us/sample - loss: 0.6498 - accuracy: 0.6240 - val_loss: 0.6675 - val_accuracy: 0.6045\n",
      "Epoch 29/400\n",
      "2404/2404 [==============================] - 0s 145us/sample - loss: 0.6451 - accuracy: 0.6265 - val_loss: 0.6584 - val_accuracy: 0.6157\n",
      "Epoch 30/400\n",
      "2404/2404 [==============================] - 0s 145us/sample - loss: 0.6404 - accuracy: 0.6285 - val_loss: 0.6635 - val_accuracy: 0.5858\n",
      "Epoch 31/400\n",
      "2404/2404 [==============================] - 0s 146us/sample - loss: 0.6413 - accuracy: 0.6181 - val_loss: 0.6560 - val_accuracy: 0.6045\n",
      "Epoch 32/400\n",
      "2404/2404 [==============================] - 0s 146us/sample - loss: 0.6448 - accuracy: 0.6136 - val_loss: 0.6573 - val_accuracy: 0.6007\n",
      "Epoch 33/400\n",
      "2404/2404 [==============================] - 0s 150us/sample - loss: 0.6415 - accuracy: 0.6281 - val_loss: 0.6583 - val_accuracy: 0.6045\n",
      "Epoch 34/400\n",
      "2404/2404 [==============================] - 0s 146us/sample - loss: 0.6462 - accuracy: 0.6273 - val_loss: 0.6681 - val_accuracy: 0.6119\n",
      "Epoch 35/400\n",
      "2404/2404 [==============================] - 0s 149us/sample - loss: 0.6452 - accuracy: 0.6227 - val_loss: 0.6749 - val_accuracy: 0.5896\n",
      "Epoch 36/400\n",
      "2404/2404 [==============================] - 0s 144us/sample - loss: 0.6356 - accuracy: 0.6427 - val_loss: 0.6518 - val_accuracy: 0.6082\n",
      "Epoch 37/400\n",
      "2404/2404 [==============================] - 0s 145us/sample - loss: 0.6341 - accuracy: 0.6364 - val_loss: 0.6692 - val_accuracy: 0.5672\n",
      "Epoch 38/400\n",
      "2404/2404 [==============================] - 0s 146us/sample - loss: 0.6389 - accuracy: 0.6269 - val_loss: 0.6655 - val_accuracy: 0.5784\n",
      "Epoch 39/400\n",
      "2404/2404 [==============================] - 0s 140us/sample - loss: 0.6379 - accuracy: 0.6323 - val_loss: 0.6683 - val_accuracy: 0.5746\n",
      "Epoch 40/400\n",
      "2404/2404 [==============================] - 0s 145us/sample - loss: 0.6437 - accuracy: 0.6119 - val_loss: 0.6600 - val_accuracy: 0.5933\n",
      "Epoch 41/400\n",
      "2404/2404 [==============================] - 0s 139us/sample - loss: 0.6396 - accuracy: 0.6244 - val_loss: 0.6502 - val_accuracy: 0.6231\n",
      "Epoch 42/400\n",
      "2404/2404 [==============================] - 0s 145us/sample - loss: 0.6394 - accuracy: 0.6269 - val_loss: 0.6535 - val_accuracy: 0.6007\n",
      "Epoch 43/400\n",
      "2404/2404 [==============================] - 0s 147us/sample - loss: 0.6357 - accuracy: 0.6314 - val_loss: 0.6653 - val_accuracy: 0.5746\n",
      "Epoch 44/400\n",
      "2404/2404 [==============================] - 0s 151us/sample - loss: 0.6340 - accuracy: 0.6298 - val_loss: 0.6674 - val_accuracy: 0.5933\n",
      "Epoch 45/400\n",
      "2404/2404 [==============================] - 0s 144us/sample - loss: 0.6318 - accuracy: 0.6319 - val_loss: 0.6601 - val_accuracy: 0.5896\n",
      "Epoch 46/400\n",
      "2404/2404 [==============================] - 0s 148us/sample - loss: 0.6290 - accuracy: 0.6385 - val_loss: 0.6671 - val_accuracy: 0.5933\n",
      "Epoch 47/400\n",
      "2404/2404 [==============================] - 0s 145us/sample - loss: 0.6320 - accuracy: 0.6260 - val_loss: 0.6589 - val_accuracy: 0.5970\n",
      "Epoch 48/400\n",
      "2404/2404 [==============================] - 0s 145us/sample - loss: 0.6313 - accuracy: 0.6431 - val_loss: 0.6631 - val_accuracy: 0.5933\n",
      "Epoch 49/400\n",
      "2404/2404 [==============================] - 0s 145us/sample - loss: 0.6316 - accuracy: 0.6360 - val_loss: 0.6670 - val_accuracy: 0.5858\n",
      "Epoch 50/400\n",
      "2404/2404 [==============================] - 0s 146us/sample - loss: 0.6251 - accuracy: 0.6360 - val_loss: 0.6718 - val_accuracy: 0.5821\n",
      "Epoch 51/400\n",
      "2404/2404 [==============================] - 0s 150us/sample - loss: 0.6297 - accuracy: 0.6373 - val_loss: 0.6738 - val_accuracy: 0.5970\n",
      "Epoch 52/400\n",
      "2404/2404 [==============================] - 0s 151us/sample - loss: 0.6312 - accuracy: 0.6427 - val_loss: 0.6756 - val_accuracy: 0.5858\n",
      "Epoch 53/400\n",
      "2404/2404 [==============================] - 0s 148us/sample - loss: 0.6281 - accuracy: 0.6431 - val_loss: 0.6598 - val_accuracy: 0.5933\n",
      "Epoch 54/400\n",
      "2404/2404 [==============================] - 0s 149us/sample - loss: 0.6264 - accuracy: 0.6398 - val_loss: 0.6622 - val_accuracy: 0.6007\n",
      "Epoch 55/400\n",
      "2404/2404 [==============================] - 0s 148us/sample - loss: 0.6256 - accuracy: 0.6452 - val_loss: 0.6555 - val_accuracy: 0.6119\n",
      "Epoch 56/400\n",
      "2404/2404 [==============================] - 0s 148us/sample - loss: 0.6234 - accuracy: 0.6360 - val_loss: 0.6569 - val_accuracy: 0.6269\n",
      "Epoch 57/400\n",
      "2404/2404 [==============================] - 0s 148us/sample - loss: 0.6255 - accuracy: 0.6477 - val_loss: 0.6567 - val_accuracy: 0.6119\n",
      "Epoch 00057: early stopping\n"
     ]
    },
    {
     "data": {
      "text/plain": [
       "<matplotlib.axes._subplots.AxesSubplot at 0x1a44a7b5d0>"
      ]
     },
     "execution_count": 5,
     "metadata": {},
     "output_type": "execute_result"
    },
    {
     "data": {
      "image/png": "[encoded data removed]",
      "text/plain": [
       "<Figure size 432x288 with 1 Axes>"
      ]
     },
     "metadata": {
      "needs_background": "light"
     },
     "output_type": "display_data"
    }
   ],
   "source": [
    "dnnClf.fit(x=X_train, \n",
    "          y=y_train, \n",
    "          epochs=400,\n",
    "          validation_data=(X_test, y_test), verbose=1,\n",
    "          callbacks=[early_stop]\n",
    "          )\n",
    "model_loss = pd.DataFrame(dnnClf.history.history)\n",
    "model_loss.plot()"
   ]
  },
  {
   "cell_type": "code",
   "execution_count": 6,
   "metadata": {},
   "outputs": [
    {
     "name": "stdout",
     "output_type": "stream",
     "text": [
      "DNN Accuracy: 0.612\n"
     ]
    }
   ],
   "source": [
    "dnnPreds = dnnClf.predict(scaler.transform(X_TEST))\n",
    "dnnPreds = [round(i[0]) for i in dnnPreds]\n",
    "dnnAcc = metrics.accuracy_score(dnnPreds, y_TEST)\n",
    "print(\"DNN Accuracy:\",round(dnnAcc,3))"
   ]
  },
  {
   "cell_type": "markdown",
   "metadata": {},
   "source": [
    "### 2- SVM:\n",
    "Using a Support Vector Machine with a linear kernel"
   ]
  },
  {
   "cell_type": "code",
   "execution_count": 7,
   "metadata": {},
   "outputs": [
    {
     "name": "stdout",
     "output_type": "stream",
     "text": [
      "SVM Accuracy: 0.601\n"
     ]
    }
   ],
   "source": [
    "svmClf = SVC(kernel=\"linear\")\n",
    "svmClf.fit(X_TRAIN,y_TRAIN)\n",
    "svmPreds = svmClf.predict(X_TEST)\n",
    "svmAcc = metrics.accuracy_score(svmPreds, y_TEST)\n",
    "print(\"SVM Accuracy:\",round(svmAcc,3))\n",
    "\n",
    "# svm hp-tuning with gridSearch\n",
    "#svm_param = {\"kernel\":(\"linear\",\"poly\",\"rbf\", \"sigmoid\"),\n",
    "#            \"C\":[1,52,10],\n",
    "#            \"degree\":[3,8],\n",
    "#            \"gamma\":(\"auto\",\"scale\"),\n",
    "#            \"coef0\":[0.001,10,0.5]}\n",
    "#svmClf = SVC()\n",
    "#svmGrid = GridSearchCV(svmClf, svm_param,cv=2)\n",
    "#svmGrid.fit(X_TRAIN, y_TRAIN)"
   ]
  },
  {
   "cell_type": "markdown",
   "metadata": {},
   "source": [
    "### 3- RF:\n",
    "Random Forest"
   ]
  },
  {
   "cell_type": "code",
   "execution_count": 8,
   "metadata": {},
   "outputs": [
    {
     "name": "stdout",
     "output_type": "stream",
     "text": [
      "RF Accuracy: 0.601\n"
     ]
    }
   ],
   "source": [
    "rfClf = RandomForestRegressor(n_estimators = 100, random_state = SEED)\n",
    "rfClf.fit(X_TRAIN, y_TRAIN)\n",
    "rfPreds = rfClf.predict(X_TEST)\n",
    "rfPreds = [round(i) for i in rfPreds]\n",
    "rfAcc = metrics.accuracy_score(rfPreds,y_TEST)\n",
    "print(\"RF Accuracy:\",round(rfAcc,3))"
   ]
  },
  {
   "cell_type": "markdown",
   "metadata": {},
   "source": [
    "### 4- Ensemble Method:\n",
    "Ensemble method aggregates the votes of each model and gives the most frequent vote as output"
   ]
  },
  {
   "cell_type": "code",
   "execution_count": 9,
   "metadata": {},
   "outputs": [
    {
     "name": "stdout",
     "output_type": "stream",
     "text": [
      "============================================================================================================================================================================================================================================================================\n",
      "Ensemble Accuracy: 0.604\n"
     ]
    }
   ],
   "source": [
    "def predictEnsemble(sample):\n",
    "    print(\"=\",end=\"\")\n",
    "    dnnPred = dnnClf.predict(scaler.transform(sample.reshape(1,-1))).tolist()[0][0]\n",
    "    svmPred = svmClf.predict(sample.reshape(1,-1)).tolist()[0]\n",
    "    rfPred = rfClf.predict(sample.reshape(1,-1)).tolist()[0]\n",
    "    \n",
    "    ensPred = []\n",
    "    ensPred.append([dnnPred,svmPred,rfPred])\n",
    "    ensPred = [round(i) for i in ensPred[0]]\n",
    "    #print(ensPred)\n",
    "    \n",
    "    return(max(set(ensPred), key=ensPred.count)) # return mode, i.e: most frequent\n",
    "\n",
    "ensPreds = []\n",
    "[ensPreds.append(predictEnsemble(e)) for e in X_TEST]\n",
    "ensAcc = metrics.accuracy_score(ensPreds,y_TEST)\n",
    "print(\"\\nEnsemble Accuracy:\",round(ensAcc,3))"
   ]
  },
  {
   "cell_type": "markdown",
   "metadata": {},
   "source": [
    "## Performance Evaluation:"
   ]
  },
  {
   "cell_type": "code",
   "execution_count": 10,
   "metadata": {},
   "outputs": [
    {
     "name": "stdout",
     "output_type": "stream",
     "text": [
      "Accuracy on unseen test dataset\n",
      "DNN Accuracy: 0.567\n",
      "SVM Accuracy: 0.608\n",
      "RF Accuracy: 0.584\n",
      "================================================================================================================================================================================================================================================================================================================================================================================================================================================================================\n",
      "Ensemble Accuracy: 0.586\n"
     ]
    }
   ],
   "source": [
    "print(\"Accuracy on unseen test dataset\")\n",
    "TEST = pd.read_csv(\"UFC_TEST.csv\")\n",
    "TESTX = TEST.drop([\"B_fighter\",\"R_fighter\",\"Winner\"],axis=1).values\n",
    "TESTY = TEST[\"Winner\"].values\n",
    "\n",
    "dnnPreds2 = dnnClf.predict(scaler.transform(TESTX))\n",
    "dnnPreds2 = [round(i[0]) for i in dnnPreds2]\n",
    "dnnAcc2 = metrics.accuracy_score(dnnPreds2, TESTY)\n",
    "print(\"DNN Accuracy:\",round(dnnAcc2,3))\n",
    "\n",
    "svmPreds2 = svmClf.predict(TESTX)\n",
    "svmAcc2 = metrics.accuracy_score(svmPreds2, TESTY)\n",
    "print(\"SVM Accuracy:\",round(svmAcc2,3))\n",
    "\n",
    "rfPreds2 = rfClf.predict(TESTX)\n",
    "rfPreds2 = [round(i) for i in rfPreds2]\n",
    "rfAcc2 = metrics.accuracy_score(rfPreds2, TESTY)\n",
    "print(\"RF Accuracy:\",round(rfAcc2,3))\n",
    "\n",
    "ensPreds2 = []\n",
    "[ensPreds2.append(predictEnsemble(e)) for e in TESTX]\n",
    "ensAcc2 = metrics.accuracy_score(ensPreds2,TESTY)\n",
    "print(\"\\nEnsemble Accuracy:\",round(ensAcc2,3))"
   ]
  },
  {
   "cell_type": "code",
   "execution_count": 11,
   "metadata": {},
   "outputs": [
    {
     "data": {
      "text/plain": [
       "<matplotlib.axes._subplots.AxesSubplot at 0x1a4b3e6650>"
      ]
     },
     "execution_count": 11,
     "metadata": {},
     "output_type": "execute_result"
    },
    {
     "data": {
      "image/png": "[encoded data removed]",
      "text/plain": [
       "<Figure size 432x288 with 1 Axes>"
      ]
     },
     "metadata": {
      "needs_background": "light"
     },
     "output_type": "display_data"
    }
   ],
   "source": [
    "accTable = pd.DataFrame({\"Model\":[\"DNN\",\"SVM\",\"RF\",\"Ensemble\"], \"Val_Accuracy\":[dnnAcc,svmAcc,rfAcc,ensAcc],\n",
    "                         \"Test_Accuracy\":[dnnAcc2,svmAcc2,rfAcc2,ensAcc2]})\n",
    "accTable.plot(kind=\"bar\",ylim=(0.55,0.62),x=\"Model\",title=\"Models Performance on Validation and Test Data\")"
   ]
  }
 ],
 "metadata": {
  "kernelspec": {
   "display_name": "Python 3",
   "language": "python",
   "name": "python3"
  },
  "language_info": {
   "codemirror_mode": {
    "name": "ipython",
    "version": 3
   },
   "file_extension": ".py",
   "mimetype": "text/x-python",
   "name": "python",
   "nbconvert_exporter": "python",
   "pygments_lexer": "ipython3",
   "version": "3.7.4"
  }
 },
 "nbformat": 4,
 "nbformat_minor": 4
}
