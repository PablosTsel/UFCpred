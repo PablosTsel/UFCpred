{
 "cells": [
  {
   "cell_type": "markdown",
   "metadata": {},
   "source": [
    "# DNN with Hyper-Parameters Tuning"
   ]
  },
  {
   "cell_type": "code",
   "execution_count": 4,
   "metadata": {
    "scrolled": true
   },
   "outputs": [
    {
     "name": "stdout",
     "output_type": "stream",
     "text": [
      "X_train shape: (3476, 42) | X_test shape: (1159, 42) | y_train shape: (3476,) | y_test shape: (1159,)\n"
     ]
    }
   ],
   "source": [
    "import os\n",
    "os.environ[\"CUDA_VISIBLE_DEVICES\"] = \"-1\"\n",
    "import pandas as pd\n",
    "import numpy as np\n",
    "pd.set_option('display.max_columns', 500)\n",
    "import matplotlib.pyplot as plt\n",
    "%matplotlib inline\n",
    "\n",
    "from sklearn.model_selection import train_test_split\n",
    "from sklearn.preprocessing import MinMaxScaler\n",
    "import tensorflow as tf\n",
    "from tensorflow.keras.models import Sequential\n",
    "from tensorflow.keras.layers import Dense, Activation,Dropout\n",
    "\n",
    "#hyper-parameter tuning\n",
    "from kerastuner.tuners import RandomSearch\n",
    "from kerastuner.engine.hyperparameters import HyperParameters\n",
    "import time\n",
    "LOG_DIR = f\"{int(time.time())}\" # folder names as a timestamp\n",
    "\n",
    "UFC_FINAL = pd.read_csv(\"UFC_FINAL.csv\")\n",
    "\n",
    "# encode blue and red as 1 and 0\n",
    "UFC_FINAL[\"Winner\"] = UFC_FINAL[\"Winner\"].replace(\"Blue\", 1)\n",
    "UFC_FINAL[\"Winner\"] = UFC_FINAL[\"Winner\"].replace(\"Red\", 0)\n",
    "\n",
    "# train/test split\n",
    "X = UFC_FINAL.drop(\"Winner\", axis=1).values\n",
    "y = UFC_FINAL[\"Winner\"].values\n",
    "X_train, X_test, y_train, y_test = train_test_split(X,y, test_size=0.25, random_state=101)\n",
    "\n",
    "# scaling\n",
    "scaler = MinMaxScaler()\n",
    "scaler.fit(X_train)\n",
    "X_train = scaler.transform(X_train)\n",
    "X_test = scaler.transform(X_test)\n",
    "\n",
    "print(f\"X_train shape: {X_train.shape} | X_test shape: {X_test.shape} | y_train shape: {y_train.shape} | y_test shape: {y_test.shape}\")\n",
    "\n",
    "# function to build the model (argument: hyper-parameter)\n",
    "def build_model(hp):\n",
    "    # model\n",
    "    model = Sequential()\n",
    "    \n",
    "    # first layer's no. of neurons = hp.Int range of values to test\n",
    "    model.add(Dense(hp.Int(\"input_units\", min_value=30,max_value=256,step=16), activation='relu'))\n",
    "    \n",
    "    # range of 1 to 10 layers to test\n",
    "    for i in range(hp.Int(\"no. Of Hidden Layers\", 1, 10)):\n",
    "        # for each layer, again test range of neurons\n",
    "        model.add(Dense(hp.Int(f\"Hidden_layer_{i+1}_units\", min_value=30,max_value=256,step=16), activation='relu'))\n",
    "\n",
    "    model.add(Dense(units=1, activation='sigmoid'))\n",
    "\n",
    "    model.compile(loss='binary_crossentropy', optimizer='adam', metrics=['accuracy'])\n",
    "    return model\n",
    "\n",
    "tuner = RandomSearch(\n",
    "        build_model, # name of the function that builds the model\n",
    "        objective=\"val_acc\", # the thing that we're interested to trace\n",
    "        max_trials = 2, # no. of combinations to try\n",
    "        executions_per_trial = 1, # no. of times to train each combination (true avg)\n",
    "        directory=LOG_DIR) # directory to save the outputs\n"
   ]
  },
  {
   "cell_type": "code",
   "execution_count": 5,
   "metadata": {
    "scrolled": true
   },
   "outputs": [
    {
     "name": "stdout",
     "output_type": "stream",
     "text": [
      "Train on 3476 samples, validate on 1159 samples\n",
      "Epoch 1/5\n",
      "3476/3476 [==============================] - ETA: 1:44 - loss: 0.6902 - acc: 0.687 - ETA: 9s - loss: 0.6699 - acc: 0.6847  - ETA: 5s - loss: 0.6489 - acc: 0.685 - ETA: 3s - loss: 0.6522 - acc: 0.672 - ETA: 2s - loss: 0.6479 - acc: 0.671 - ETA: 1s - loss: 0.6442 - acc: 0.673 - ETA: 1s - loss: 0.6342 - acc: 0.682 - ETA: 0s - loss: 0.6292 - acc: 0.686 - ETA: 0s - loss: 0.6280 - acc: 0.684 - ETA: 0s - loss: 0.6279 - acc: 0.684 - ETA: 0s - loss: 0.6298 - acc: 0.679 - ETA: 0s - loss: 0.6253 - acc: 0.682 - 2s 579us/sample - loss: 0.6253 - acc: 0.6821 - val_loss: 0.6230 - val_acc: 0.6644\n",
      "Epoch 2/5\n",
      "3476/3476 [==============================] - ETA: 0s - loss: 0.6648 - acc: 0.593 - ETA: 0s - loss: 0.6179 - acc: 0.687 - ETA: 0s - loss: 0.6150 - acc: 0.682 - ETA: 0s - loss: 0.5998 - acc: 0.691 - ETA: 0s - loss: 0.6067 - acc: 0.681 - ETA: 0s - loss: 0.6036 - acc: 0.685 - ETA: 0s - loss: 0.6112 - acc: 0.678 - ETA: 0s - loss: 0.6140 - acc: 0.674 - ETA: 0s - loss: 0.6126 - acc: 0.676 - ETA: 0s - loss: 0.6121 - acc: 0.676 - ETA: 0s - loss: 0.6099 - acc: 0.679 - ETA: 0s - loss: 0.6084 - acc: 0.683 - 1s 208us/sample - loss: 0.6073 - acc: 0.6861 - val_loss: 0.6165 - val_acc: 0.6721\n",
      "Epoch 3/5\n",
      "3476/3476 [==============================] - ETA: 1s - loss: 0.6269 - acc: 0.593 - ETA: 0s - loss: 0.5872 - acc: 0.684 - ETA: 0s - loss: 0.5783 - acc: 0.708 - ETA: 0s - loss: 0.5927 - acc: 0.692 - ETA: 0s - loss: 0.5990 - acc: 0.684 - ETA: 0s - loss: 0.6033 - acc: 0.683 - ETA: 0s - loss: 0.6018 - acc: 0.683 - ETA: 0s - loss: 0.6011 - acc: 0.685 - ETA: 0s - loss: 0.5986 - acc: 0.689 - ETA: 0s - loss: 0.5981 - acc: 0.689 - ETA: 0s - loss: 0.5938 - acc: 0.695 - ETA: 0s - loss: 0.5951 - acc: 0.693 - 1s 206us/sample - loss: 0.5953 - acc: 0.6936 - val_loss: 0.6055 - val_acc: 0.6747\n",
      "Epoch 4/5\n",
      "3476/3476 [==============================] - ETA: 1s - loss: 0.5777 - acc: 0.750 - ETA: 0s - loss: 0.5780 - acc: 0.718 - ETA: 0s - loss: 0.6005 - acc: 0.695 - ETA: 0s - loss: 0.6009 - acc: 0.696 - ETA: 0s - loss: 0.5912 - acc: 0.704 - ETA: 0s - loss: 0.5944 - acc: 0.700 - ETA: 0s - loss: 0.5909 - acc: 0.699 - ETA: 0s - loss: 0.5922 - acc: 0.698 - ETA: 0s - loss: 0.5951 - acc: 0.694 - ETA: 0s - loss: 0.5930 - acc: 0.695 - ETA: 0s - loss: 0.5892 - acc: 0.697 - ETA: 0s - loss: 0.5878 - acc: 0.698 - 1s 206us/sample - loss: 0.5905 - acc: 0.6939 - val_loss: 0.6076 - val_acc: 0.6756\n",
      "Epoch 5/5\n",
      "3476/3476 [==============================] - ETA: 1s - loss: 0.5518 - acc: 0.781 - ETA: 0s - loss: 0.6045 - acc: 0.701 - ETA: 0s - loss: 0.5929 - acc: 0.699 - ETA: 0s - loss: 0.5941 - acc: 0.695 - ETA: 0s - loss: 0.5890 - acc: 0.708 - ETA: 0s - loss: 0.5884 - acc: 0.703 - ETA: 0s - loss: 0.5874 - acc: 0.699 - ETA: 0s - loss: 0.5896 - acc: 0.694 - ETA: 0s - loss: 0.5886 - acc: 0.695 - ETA: 0s - loss: 0.5840 - acc: 0.698 - ETA: 0s - loss: 0.5848 - acc: 0.696 - ETA: 0s - loss: 0.5836 - acc: 0.697 - 1s 203us/sample - loss: 0.5847 - acc: 0.6979 - val_loss: 0.5972 - val_acc: 0.6756\n"
     ]
    },
    {
     "data": {
      "text/html": [
       "<span style=\"color:#4527A0\"><h1 style=\"font-size:18px\">Trial complete</h1></span>"
      ],
      "text/plain": [
       "<IPython.core.display.HTML object>"
      ]
     },
     "metadata": {},
     "output_type": "display_data"
    },
    {
     "data": {
      "text/html": [
       "<span style=\"color:#4527A0\"><h1 style=\"font-size:18px\">Trial summary</h1></span>"
      ],
      "text/plain": [
       "<IPython.core.display.HTML object>"
      ]
     },
     "metadata": {},
     "output_type": "display_data"
    },
    {
     "data": {
      "text/html": [
       "<span style=\"color:#7E57C2\"><h2 style=\"font-size:16px\">Hp values:</h2></span>"
      ],
      "text/plain": [
       "<IPython.core.display.HTML object>"
      ]
     },
     "metadata": {},
     "output_type": "display_data"
    },
    {
     "data": {
      "text/html": [
       "<span style=\"color:cyan\"> |-Hidden_layer_1_units: 126</span>"
      ],
      "text/plain": [
       "<IPython.core.display.HTML object>"
      ]
     },
     "metadata": {},
     "output_type": "display_data"
    },
    {
     "data": {
      "text/html": [
       "<span style=\"color:blue\"> |-Hidden_layer_2_units: 30</span>"
      ],
      "text/plain": [
       "<IPython.core.display.HTML object>"
      ]
     },
     "metadata": {},
     "output_type": "display_data"
    },
    {
     "data": {
      "text/html": [
       "<span style=\"color:cyan\"> |-Hidden_layer_3_units: 30</span>"
      ],
      "text/plain": [
       "<IPython.core.display.HTML object>"
      ]
     },
     "metadata": {},
     "output_type": "display_data"
    },
    {
     "data": {
      "text/html": [
       "<span style=\"color:blue\"> |-Hidden_layer_4_units: 30</span>"
      ],
      "text/plain": [
       "<IPython.core.display.HTML object>"
      ]
     },
     "metadata": {},
     "output_type": "display_data"
    },
    {
     "data": {
      "text/html": [
       "<span style=\"color:cyan\"> |-Hidden_layer_5_units: 30</span>"
      ],
      "text/plain": [
       "<IPython.core.display.HTML object>"
      ]
     },
     "metadata": {},
     "output_type": "display_data"
    },
    {
     "data": {
      "text/html": [
       "<span style=\"color:blue\"> |-Hidden_layer_6_units: 30</span>"
      ],
      "text/plain": [
       "<IPython.core.display.HTML object>"
      ]
     },
     "metadata": {},
     "output_type": "display_data"
    },
    {
     "data": {
      "text/html": [
       "<span style=\"color:cyan\"> |-input_units: 174</span>"
      ],
      "text/plain": [
       "<IPython.core.display.HTML object>"
      ]
     },
     "metadata": {},
     "output_type": "display_data"
    },
    {
     "data": {
      "text/html": [
       "<span style=\"color:blue\"> |-no. Of Hidden Layers: 6</span>"
      ],
      "text/plain": [
       "<IPython.core.display.HTML object>"
      ]
     },
     "metadata": {},
     "output_type": "display_data"
    },
    {
     "data": {
      "text/html": [
       "<span style=\"color:cyan\"> |-Score: 0.6755824089050293</span>"
      ],
      "text/plain": [
       "<IPython.core.display.HTML object>"
      ]
     },
     "metadata": {},
     "output_type": "display_data"
    },
    {
     "data": {
      "text/html": [
       "<span style=\"color:cyan\"> |-Best step: 0</span>"
      ],
      "text/plain": [
       "<IPython.core.display.HTML object>"
      ]
     },
     "metadata": {},
     "output_type": "display_data"
    },
    {
     "name": "stdout",
     "output_type": "stream",
     "text": [
      "Train on 3476 samples, validate on 1159 samples\n",
      "Epoch 1/5\n",
      "3476/3476 [==============================] - ETA: 2:35 - loss: 0.6932 - acc: 0.437 - ETA: 39s - loss: 0.6836 - acc: 0.632 - ETA: 26s - loss: 0.6809 - acc: 0.62 - ETA: 20s - loss: 0.6576 - acc: 0.67 - ETA: 14s - loss: 0.6452 - acc: 0.68 - ETA: 12s - loss: 0.6495 - acc: 0.68 - ETA: 11s - loss: 0.6488 - acc: 0.67 - ETA: 9s - loss: 0.6460 - acc: 0.6801 - ETA: 7s - loss: 0.6376 - acc: 0.686 - ETA: 5s - loss: 0.6335 - acc: 0.686 - ETA: 4s - loss: 0.6362 - acc: 0.679 - ETA: 3s - loss: 0.6366 - acc: 0.677 - ETA: 3s - loss: 0.6328 - acc: 0.683 - ETA: 2s - loss: 0.6312 - acc: 0.683 - ETA: 2s - loss: 0.6334 - acc: 0.680 - ETA: 2s - loss: 0.6347 - acc: 0.678 - ETA: 1s - loss: 0.6355 - acc: 0.676 - ETA: 1s - loss: 0.6345 - acc: 0.677 - ETA: 1s - loss: 0.6356 - acc: 0.674 - ETA: 1s - loss: 0.6324 - acc: 0.677 - ETA: 0s - loss: 0.6339 - acc: 0.675 - ETA: 0s - loss: 0.6301 - acc: 0.679 - ETA: 0s - loss: 0.6289 - acc: 0.680 - ETA: 0s - loss: 0.6281 - acc: 0.679 - ETA: 0s - loss: 0.6246 - acc: 0.682 - ETA: 0s - loss: 0.6257 - acc: 0.679 - 3s 974us/sample - loss: 0.6258 - acc: 0.6798 - val_loss: 0.6221 - val_acc: 0.6644\n",
      "Epoch 2/5\n",
      "3476/3476 [==============================] - ETA: 1s - loss: 0.7549 - acc: 0.468 - ETA: 1s - loss: 0.6317 - acc: 0.692 - ETA: 1s - loss: 0.6220 - acc: 0.676 - ETA: 1s - loss: 0.6214 - acc: 0.668 - ETA: 0s - loss: 0.6105 - acc: 0.677 - ETA: 0s - loss: 0.6077 - acc: 0.681 - ETA: 0s - loss: 0.6034 - acc: 0.682 - ETA: 0s - loss: 0.6052 - acc: 0.680 - ETA: 0s - loss: 0.6065 - acc: 0.679 - ETA: 0s - loss: 0.6030 - acc: 0.684 - ETA: 0s - loss: 0.5999 - acc: 0.686 - ETA: 0s - loss: 0.5988 - acc: 0.688 - ETA: 0s - loss: 0.6025 - acc: 0.687 - ETA: 0s - loss: 0.6007 - acc: 0.690 - ETA: 0s - loss: 0.5995 - acc: 0.692 - ETA: 0s - loss: 0.6005 - acc: 0.690 - ETA: 0s - loss: 0.6015 - acc: 0.690 - ETA: 0s - loss: 0.6000 - acc: 0.690 - ETA: 0s - loss: 0.6009 - acc: 0.687 - ETA: 0s - loss: 0.6014 - acc: 0.686 - ETA: 0s - loss: 0.6038 - acc: 0.683 - ETA: 0s - loss: 0.6052 - acc: 0.681 - ETA: 0s - loss: 0.6054 - acc: 0.681 - ETA: 0s - loss: 0.6067 - acc: 0.680 - ETA: 0s - loss: 0.6058 - acc: 0.681 - ETA: 0s - loss: 0.6050 - acc: 0.681 - ETA: 0s - loss: 0.6061 - acc: 0.678 - ETA: 0s - loss: 0.6059 - acc: 0.681 - ETA: 0s - loss: 0.6055 - acc: 0.681 - 2s 498us/sample - loss: 0.6046 - acc: 0.6824 - val_loss: 0.6065 - val_acc: 0.6644\n",
      "Epoch 3/5\n",
      "3476/3476 [==============================] - ETA: 1s - loss: 0.7201 - acc: 0.468 - ETA: 0s - loss: 0.5533 - acc: 0.696 - ETA: 0s - loss: 0.5439 - acc: 0.711 - ETA: 0s - loss: 0.5685 - acc: 0.689 - ETA: 0s - loss: 0.5762 - acc: 0.692 - ETA: 0s - loss: 0.5840 - acc: 0.692 - ETA: 0s - loss: 0.5818 - acc: 0.698 - ETA: 0s - loss: 0.5799 - acc: 0.700 - ETA: 0s - loss: 0.5785 - acc: 0.699 - ETA: 0s - loss: 0.5802 - acc: 0.693 - ETA: 0s - loss: 0.5838 - acc: 0.692 - ETA: 0s - loss: 0.5843 - acc: 0.694 - ETA: 0s - loss: 0.5862 - acc: 0.693 - ETA: 0s - loss: 0.5848 - acc: 0.697 - ETA: 0s - loss: 0.5881 - acc: 0.694 - ETA: 0s - loss: 0.5889 - acc: 0.696 - ETA: 0s - loss: 0.5889 - acc: 0.694 - ETA: 0s - loss: 0.5880 - acc: 0.697 - ETA: 0s - loss: 0.5918 - acc: 0.694 - 1s 323us/sample - loss: 0.5937 - acc: 0.6916 - val_loss: 0.6186 - val_acc: 0.6652\n",
      "Epoch 4/5\n",
      "3476/3476 [==============================] - ETA: 2s - loss: 0.6611 - acc: 0.593 - ETA: 1s - loss: 0.6295 - acc: 0.625 - ETA: 0s - loss: 0.6213 - acc: 0.644 - ETA: 0s - loss: 0.5998 - acc: 0.664 - ETA: 0s - loss: 0.5915 - acc: 0.675 - ETA: 0s - loss: 0.5869 - acc: 0.685 - ETA: 0s - loss: 0.5866 - acc: 0.691 - ETA: 0s - loss: 0.5826 - acc: 0.696 - ETA: 0s - loss: 0.5860 - acc: 0.698 - ETA: 0s - loss: 0.5888 - acc: 0.698 - ETA: 0s - loss: 0.5892 - acc: 0.697 - ETA: 0s - loss: 0.5843 - acc: 0.701 - ETA: 0s - loss: 0.5869 - acc: 0.700 - ETA: 0s - loss: 0.5877 - acc: 0.698 - ETA: 0s - loss: 0.5893 - acc: 0.694 - ETA: 0s - loss: 0.5889 - acc: 0.694 - ETA: 0s - loss: 0.5894 - acc: 0.693 - ETA: 0s - loss: 0.5881 - acc: 0.695 - 1s 311us/sample - loss: 0.5886 - acc: 0.6951 - val_loss: 0.5972 - val_acc: 0.6721\n",
      "Epoch 5/5\n",
      "3476/3476 [==============================] - ETA: 1s - loss: 0.4981 - acc: 0.718 - ETA: 1s - loss: 0.5356 - acc: 0.754 - ETA: 0s - loss: 0.5602 - acc: 0.723 - ETA: 0s - loss: 0.5638 - acc: 0.717 - ETA: 0s - loss: 0.5664 - acc: 0.713 - ETA: 0s - loss: 0.5847 - acc: 0.692 - ETA: 0s - loss: 0.5844 - acc: 0.696 - ETA: 0s - loss: 0.5815 - acc: 0.701 - ETA: 0s - loss: 0.5749 - acc: 0.704 - ETA: 0s - loss: 0.5778 - acc: 0.703 - ETA: 0s - loss: 0.5825 - acc: 0.695 - ETA: 0s - loss: 0.5827 - acc: 0.697 - ETA: 0s - loss: 0.5832 - acc: 0.695 - ETA: 0s - loss: 0.5843 - acc: 0.693 - ETA: 0s - loss: 0.5850 - acc: 0.692 - ETA: 0s - loss: 0.5882 - acc: 0.689 - ETA: 0s - loss: 0.5899 - acc: 0.687 - ETA: 0s - loss: 0.5900 - acc: 0.687 - ETA: 0s - loss: 0.5869 - acc: 0.689 - 1s 304us/sample - loss: 0.5860 - acc: 0.6910 - val_loss: 0.6241 - val_acc: 0.6635\n"
     ]
    },
    {
     "data": {
      "text/html": [
       "<span style=\"color:#4527A0\"><h1 style=\"font-size:18px\">Trial complete</h1></span>"
      ],
      "text/plain": [
       "<IPython.core.display.HTML object>"
      ]
     },
     "metadata": {},
     "output_type": "display_data"
    },
    {
     "data": {
      "text/html": [
       "<span style=\"color:#4527A0\"><h1 style=\"font-size:18px\">Trial summary</h1></span>"
      ],
      "text/plain": [
       "<IPython.core.display.HTML object>"
      ]
     },
     "metadata": {},
     "output_type": "display_data"
    },
    {
     "data": {
      "text/html": [
       "<span style=\"color:#7E57C2\"><h2 style=\"font-size:16px\">Hp values:</h2></span>"
      ],
      "text/plain": [
       "<IPython.core.display.HTML object>"
      ]
     },
     "metadata": {},
     "output_type": "display_data"
    },
    {
     "data": {
      "text/html": [
       "<span style=\"color:cyan\"> |-Hidden_layer_1_units: 94</span>"
      ],
      "text/plain": [
       "<IPython.core.display.HTML object>"
      ]
     },
     "metadata": {},
     "output_type": "display_data"
    },
    {
     "data": {
      "text/html": [
       "<span style=\"color:blue\"> |-Hidden_layer_2_units: 206</span>"
      ],
      "text/plain": [
       "<IPython.core.display.HTML object>"
      ]
     },
     "metadata": {},
     "output_type": "display_data"
    },
    {
     "data": {
      "text/html": [
       "<span style=\"color:cyan\"> |-Hidden_layer_3_units: 206</span>"
      ],
      "text/plain": [
       "<IPython.core.display.HTML object>"
      ]
     },
     "metadata": {},
     "output_type": "display_data"
    },
    {
     "data": {
      "text/html": [
       "<span style=\"color:blue\"> |-Hidden_layer_4_units: 62</span>"
      ],
      "text/plain": [
       "<IPython.core.display.HTML object>"
      ]
     },
     "metadata": {},
     "output_type": "display_data"
    },
    {
     "data": {
      "text/html": [
       "<span style=\"color:cyan\"> |-Hidden_layer_5_units: 238</span>"
      ],
      "text/plain": [
       "<IPython.core.display.HTML object>"
      ]
     },
     "metadata": {},
     "output_type": "display_data"
    },
    {
     "data": {
      "text/html": [
       "<span style=\"color:blue\"> |-Hidden_layer_6_units: 46</span>"
      ],
      "text/plain": [
       "<IPython.core.display.HTML object>"
      ]
     },
     "metadata": {},
     "output_type": "display_data"
    },
    {
     "data": {
      "text/html": [
       "<span style=\"color:cyan\"> |-Hidden_layer_7_units: 30</span>"
      ],
      "text/plain": [
       "<IPython.core.display.HTML object>"
      ]
     },
     "metadata": {},
     "output_type": "display_data"
    },
    {
     "data": {
      "text/html": [
       "<span style=\"color:blue\"> |-input_units: 174</span>"
      ],
      "text/plain": [
       "<IPython.core.display.HTML object>"
      ]
     },
     "metadata": {},
     "output_type": "display_data"
    },
    {
     "data": {
      "text/html": [
       "<span style=\"color:cyan\"> |-no. Of Hidden Layers: 7</span>"
      ],
      "text/plain": [
       "<IPython.core.display.HTML object>"
      ]
     },
     "metadata": {},
     "output_type": "display_data"
    },
    {
     "data": {
      "text/html": [
       "<span style=\"color:cyan\"> |-Score: 0.6721311211585999</span>"
      ],
      "text/plain": [
       "<IPython.core.display.HTML object>"
      ]
     },
     "metadata": {},
     "output_type": "display_data"
    },
    {
     "data": {
      "text/html": [
       "<span style=\"color:cyan\"> |-Best step: 0</span>"
      ],
      "text/plain": [
       "<IPython.core.display.HTML object>"
      ]
     },
     "metadata": {},
     "output_type": "display_data"
    },
    {
     "name": "stdout",
     "output_type": "stream",
     "text": [
      "INFO:tensorflow:Oracle triggered exit\n"
     ]
    }
   ],
   "source": [
    "tuner.search(x=X_train,\n",
    "             y=y_train,\n",
    "             epochs = 5,\n",
    "#             batch_size = 64,\n",
    "             validation_data=(X_test,y_test))"
   ]
  },
  {
   "cell_type": "code",
   "execution_count": 7,
   "metadata": {},
   "outputs": [
    {
     "data": {
      "text/html": [
       "<span style=\"color:#4527A0\"><h1 style=\"font-size:18px\">Results summary</h1></span>"
      ],
      "text/plain": [
       "<IPython.core.display.HTML object>"
      ]
     },
     "metadata": {},
     "output_type": "display_data"
    },
    {
     "data": {
      "text/html": [
       "<span style=\"color:cyan\"> |-Results in 1576977741/untitled_project</span>"
      ],
      "text/plain": [
       "<IPython.core.display.HTML object>"
      ]
     },
     "metadata": {},
     "output_type": "display_data"
    },
    {
     "data": {
      "text/html": [
       "<span style=\"color:cyan\"> |-Showing 10 best trials</span>"
      ],
      "text/plain": [
       "<IPython.core.display.HTML object>"
      ]
     },
     "metadata": {},
     "output_type": "display_data"
    },
    {
     "data": {
      "text/html": [
       "<span style=\"color:cyan\"> |-Objective: Objective(name='val_acc', direction='max') Score: 0.6755824089050293</span>"
      ],
      "text/plain": [
       "<IPython.core.display.HTML object>"
      ]
     },
     "metadata": {},
     "output_type": "display_data"
    },
    {
     "data": {
      "text/html": [
       "<span style=\"color:cyan\"> |-Objective: Objective(name='val_acc', direction='max') Score: 0.6721311211585999</span>"
      ],
      "text/plain": [
       "<IPython.core.display.HTML object>"
      ]
     },
     "metadata": {},
     "output_type": "display_data"
    },
    {
     "name": "stdout",
     "output_type": "stream",
     "text": [
      "None\n",
      "{'input_units': 174, 'no. Of Hidden Layers': 6, 'Hidden_layer_1_units': 126, 'Hidden_layer_2_units': 30, 'Hidden_layer_3_units': 30, 'Hidden_layer_4_units': 30, 'Hidden_layer_5_units': 30, 'Hidden_layer_6_units': 30}\n"
     ]
    }
   ],
   "source": [
    "print(tuner.results_summary()) # top 10 trials\n",
    "print(tuner.get_best_hyperparameters()[0].values) #values of best hyper-parameters\n",
    "#print(tuner.get_best_models()[0].summary())"
   ]
  },
  {
   "cell_type": "code",
   "execution_count": null,
   "metadata": {},
   "outputs": [],
   "source": []
  }
 ],
 "metadata": {
  "kernelspec": {
   "display_name": "Python 3",
   "language": "python",
   "name": "python3"
  },
  "language_info": {
   "codemirror_mode": {
    "name": "ipython",
    "version": 3
   },
   "file_extension": ".py",
   "mimetype": "text/x-python",
   "name": "python",
   "nbconvert_exporter": "python",
   "pygments_lexer": "ipython3",
   "version": "3.7.3"
  }
 },
 "nbformat": 4,
 "nbformat_minor": 4
}
