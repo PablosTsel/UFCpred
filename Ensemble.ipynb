{
 "cells": [
  {
   "cell_type": "markdown",
   "metadata": {},
   "source": [
    "# Machine Learning Models and Ensemble Method\n",
    "---\n"
   ]
  },
  {
   "cell_type": "code",
   "execution_count": 1,
   "metadata": {},
   "outputs": [],
   "source": [
    "import os\n",
    "os.environ[\"CUDA_VISIBLE_DEVICES\"] = \"-1\" # disable GPU\n",
    "import pandas as pd\n",
    "import numpy as np\n",
    "import matplotlib.pyplot as plt\n",
    "import seaborn as sns\n",
    "%matplotlib inline\n",
    "\n",
    "from sklearn.model_selection import train_test_split\n",
    "from sklearn.preprocessing import MinMaxScaler\n",
    "from sklearn import metrics\n",
    "from sklearn.svm import SVC\n",
    "from sklearn.ensemble import RandomForestRegressor\n",
    "from sklearn.model_selection import GridSearchCV\n",
    "import tensorflow as tf\n",
    "from tensorflow.keras.models import Sequential\n",
    "from tensorflow.keras.layers import Dense, Activation,Dropout\n",
    "\n",
    "SEED = 111 # constant seed for reproducibility\n",
    "os.environ['PYTHONHASHSEED'] = str(SEED)\n",
    "np.random.seed(SEED)\n",
    "tf.random.set_seed(SEED)\n"
   ]
  },
  {
   "cell_type": "markdown",
   "metadata": {},
   "source": [
    "## Train/Test Split:"
   ]
  },
  {
   "cell_type": "code",
   "execution_count": 2,
   "metadata": {},
   "outputs": [],
   "source": [
    "df = pd.read_csv(\"data/UFC_TRAIN.csv\")\n",
    "\n",
    "# tackling imbalance issue\n",
    "#theMin = df[\"Winner\"].value_counts().min()\n",
    "#minority = df[df[\"Winner\"]==1].iloc[0:theMin]\n",
    "#undersampleMaj = df[df[\"Winner\"]==0].iloc[0:theMin]\n",
    "#df = pd.concat([minority, undersampleMaj], axis=0)\n",
    "#df[\"Winner\"].value_counts()\n",
    "\n",
    "# train/test split\n",
    "X = df.drop([\"date\",\"Winner\",\"B_fighter\",\"R_fighter\"], axis=1).values\n",
    "y = df[\"Winner\"].values\n",
    "X_TRAIN, X_VAL, y_TRAIN, y_VAL = train_test_split(X,y, test_size=0.15, random_state=SEED)\n",
    "\n"
   ]
  },
  {
   "cell_type": "markdown",
   "metadata": {},
   "source": [
    "#### Baseline: Always predict red (i.e: 0)"
   ]
  },
  {
   "cell_type": "code",
   "execution_count": 3,
   "metadata": {},
   "outputs": [
    {
     "data": {
      "text/plain": [
       "0.6779468544174426"
      ]
     },
     "execution_count": 3,
     "metadata": {},
     "output_type": "execute_result"
    }
   ],
   "source": [
    "metrics.accuracy_score(np.zeros(len(df.index)),df[\"Winner\"])"
   ]
  },
  {
   "cell_type": "markdown",
   "metadata": {},
   "source": [
    "Baseline accuracy is 67.96 % in unbalanced dataset"
   ]
  },
  {
   "cell_type": "markdown",
   "metadata": {},
   "source": [
    "## ML Models\n",
    "### 1- DNN:\n",
    "Using a deep neural network with early stopping functionality to prevent divergence of loss & val_loss"
   ]
  },
  {
   "cell_type": "code",
   "execution_count": 4,
   "metadata": {
    "scrolled": true
   },
   "outputs": [
    {
     "name": "stdout",
     "output_type": "stream",
     "text": [
      "X_train shape: (3742, 42) | X_val shape: (661, 42) | y_train shape: (3742,) | y_val shape: (661,)\n"
     ]
    }
   ],
   "source": [
    "# scaling\n",
    "scaler = MinMaxScaler()\n",
    "scaler.fit(X_TRAIN)\n",
    "X_train = scaler.transform(X_TRAIN)\n",
    "X_val = scaler.transform(X_VAL)\n",
    "y_train = y_TRAIN\n",
    "y_val = y_VAL\n",
    "print(f\"X_train shape: {X_train.shape} | X_val shape: {X_val.shape} | y_train shape: {y_train.shape} | y_val shape: {y_val.shape}\")\n",
    "\n",
    "# model\n",
    "dnnClf = Sequential()\n",
    "\n",
    "# input layer\n",
    "dnnClf.add(Dense(units=42, activation='relu'))\n",
    "dnnClf.add(Dropout(0.5)) # deactivates 50% of nodes\n",
    "\n",
    "dnnClf.add(Dense(units=42, activation='relu'))\n",
    "dnnClf.add(Dropout(0.5)) # deactivates 50% of nodes\n",
    "\n",
    "dnnClf.add(Dense(units=42, activation='relu'))\n",
    "dnnClf.add(Dropout(0.5)) # deactivates 50% of nodes\n",
    "\n",
    "#dnnClf.add(Dense(units=42, activation='relu'))\n",
    "#dnnClf.add(Dropout(0.5)) # deactivates 50% of nodes\n",
    "\n",
    "#dnnClf.add(Dense(units=42, activation='relu'))\n",
    "\n",
    "#dnnClf.add(Dense(units=42, activation='relu'))\n",
    "\n",
    "# output layer\n",
    "dnnClf.add(Dense(units=1, activation='sigmoid'))\n",
    "\n",
    "dnnClf.compile(loss='binary_crossentropy', optimizer='adam', metrics=['accuracy'])\n",
    "\n",
    "from tensorflow.keras.callbacks import EarlyStopping # prevent divergence of loss & val_loss\n",
    "early_stop = EarlyStopping(monitor='val_loss', mode='min', verbose=1, patience=16)"
   ]
  },
  {
   "cell_type": "code",
   "execution_count": 5,
   "metadata": {
    "scrolled": true
   },
   "outputs": [
    {
     "name": "stdout",
     "output_type": "stream",
     "text": [
      "Train on 3742 samples, validate on 661 samples\n",
      "Epoch 1/400\n",
      "3742/3742 [==============================] - 3s 859us/sample - loss: 0.6605 - accuracy: 0.6283 - val_loss: 0.6352 - val_accuracy: 0.6702\n",
      "Epoch 2/400\n",
      "3742/3742 [==============================] - 1s 163us/sample - loss: 0.6323 - accuracy: 0.6753 - val_loss: 0.6253 - val_accuracy: 0.6702\n",
      "Epoch 3/400\n",
      "3742/3742 [==============================] - 1s 167us/sample - loss: 0.6322 - accuracy: 0.6793 - val_loss: 0.6231 - val_accuracy: 0.6702\n",
      "Epoch 4/400\n",
      "3742/3742 [==============================] - 1s 216us/sample - loss: 0.6272 - accuracy: 0.6793 - val_loss: 0.6227 - val_accuracy: 0.6702\n",
      "Epoch 5/400\n",
      "3742/3742 [==============================] - 1s 202us/sample - loss: 0.6291 - accuracy: 0.6793 - val_loss: 0.6234 - val_accuracy: 0.6702\n",
      "Epoch 6/400\n",
      "3742/3742 [==============================] - 1s 175us/sample - loss: 0.6229 - accuracy: 0.6793 - val_loss: 0.6214 - val_accuracy: 0.6702\n",
      "Epoch 7/400\n",
      "3742/3742 [==============================] - 1s 159us/sample - loss: 0.6205 - accuracy: 0.6793 - val_loss: 0.6152 - val_accuracy: 0.6702\n",
      "Epoch 8/400\n",
      "3742/3742 [==============================] - 1s 157us/sample - loss: 0.6178 - accuracy: 0.6793 - val_loss: 0.6150 - val_accuracy: 0.6702\n",
      "Epoch 9/400\n",
      "3742/3742 [==============================] - 1s 159us/sample - loss: 0.6129 - accuracy: 0.6793 - val_loss: 0.6125 - val_accuracy: 0.6702\n",
      "Epoch 10/400\n",
      "3742/3742 [==============================] - 1s 181us/sample - loss: 0.6090 - accuracy: 0.6793 - val_loss: 0.6093 - val_accuracy: 0.6702\n",
      "Epoch 11/400\n",
      "3742/3742 [==============================] - 1s 161us/sample - loss: 0.6066 - accuracy: 0.6793 - val_loss: 0.6094 - val_accuracy: 0.6702\n",
      "Epoch 12/400\n",
      "3742/3742 [==============================] - 1s 301us/sample - loss: 0.6064 - accuracy: 0.6793 - val_loss: 0.6112 - val_accuracy: 0.6702\n",
      "Epoch 13/400\n",
      "3742/3742 [==============================] - 1s 176us/sample - loss: 0.6065 - accuracy: 0.6793 - val_loss: 0.6081 - val_accuracy: 0.6702\n",
      "Epoch 14/400\n",
      "3742/3742 [==============================] - 1s 291us/sample - loss: 0.6068 - accuracy: 0.6793 - val_loss: 0.6094 - val_accuracy: 0.6702\n",
      "Epoch 15/400\n",
      "3742/3742 [==============================] - 1s 184us/sample - loss: 0.6031 - accuracy: 0.6793 - val_loss: 0.6125 - val_accuracy: 0.6702\n",
      "Epoch 16/400\n",
      "3742/3742 [==============================] - 1s 234us/sample - loss: 0.6004 - accuracy: 0.6793 - val_loss: 0.6067 - val_accuracy: 0.6702\n",
      "Epoch 17/400\n",
      "3742/3742 [==============================] - 1s 167us/sample - loss: 0.6037 - accuracy: 0.6793 - val_loss: 0.6096 - val_accuracy: 0.6702\n",
      "Epoch 18/400\n",
      "3742/3742 [==============================] - 1s 154us/sample - loss: 0.6009 - accuracy: 0.6793 - val_loss: 0.6116 - val_accuracy: 0.6702\n",
      "Epoch 19/400\n",
      "3742/3742 [==============================] - 1s 162us/sample - loss: 0.5985 - accuracy: 0.6793 - val_loss: 0.6088 - val_accuracy: 0.6702\n",
      "Epoch 20/400\n",
      "3742/3742 [==============================] - 1s 182us/sample - loss: 0.5952 - accuracy: 0.6793 - val_loss: 0.6097 - val_accuracy: 0.6702\n",
      "Epoch 21/400\n",
      "3742/3742 [==============================] - 1s 157us/sample - loss: 0.5984 - accuracy: 0.6793 - val_loss: 0.6112 - val_accuracy: 0.6702\n",
      "Epoch 22/400\n",
      "3742/3742 [==============================] - 1s 160us/sample - loss: 0.5934 - accuracy: 0.6793 - val_loss: 0.6089 - val_accuracy: 0.6702\n",
      "Epoch 23/400\n",
      "3742/3742 [==============================] - 1s 154us/sample - loss: 0.5941 - accuracy: 0.6793 - val_loss: 0.6126 - val_accuracy: 0.6702\n",
      "Epoch 24/400\n",
      "3742/3742 [==============================] - 1s 160us/sample - loss: 0.5980 - accuracy: 0.6793 - val_loss: 0.6079 - val_accuracy: 0.6702\n",
      "Epoch 25/400\n",
      "3742/3742 [==============================] - 1s 163us/sample - loss: 0.5935 - accuracy: 0.6793 - val_loss: 0.6096 - val_accuracy: 0.6702\n",
      "Epoch 26/400\n",
      "3742/3742 [==============================] - 1s 156us/sample - loss: 0.5935 - accuracy: 0.6793 - val_loss: 0.6100 - val_accuracy: 0.6702\n",
      "Epoch 27/400\n",
      "3742/3742 [==============================] - 1s 227us/sample - loss: 0.5924 - accuracy: 0.6793 - val_loss: 0.6092 - val_accuracy: 0.6702\n",
      "Epoch 28/400\n",
      "3742/3742 [==============================] - 1s 156us/sample - loss: 0.5901 - accuracy: 0.6796 - val_loss: 0.6088 - val_accuracy: 0.6702\n",
      "Epoch 29/400\n",
      "3742/3742 [==============================] - 1s 151us/sample - loss: 0.5872 - accuracy: 0.6801 - val_loss: 0.6103 - val_accuracy: 0.6702\n",
      "Epoch 30/400\n",
      "3742/3742 [==============================] - 1s 151us/sample - loss: 0.5911 - accuracy: 0.6780 - val_loss: 0.6102 - val_accuracy: 0.6702\n",
      "Epoch 31/400\n",
      "3742/3742 [==============================] - 1s 151us/sample - loss: 0.5873 - accuracy: 0.6788 - val_loss: 0.6106 - val_accuracy: 0.6702\n",
      "Epoch 32/400\n",
      "3742/3742 [==============================] - 1s 151us/sample - loss: 0.5852 - accuracy: 0.6804 - val_loss: 0.6117 - val_accuracy: 0.6702\n",
      "Epoch 00032: early stopping\n"
     ]
    },
    {
     "data": {
      "text/plain": [
       "<matplotlib.axes._subplots.AxesSubplot at 0x1a46c70d50>"
      ]
     },
     "execution_count": 5,
     "metadata": {},
     "output_type": "execute_result"
    },
    {
     "data": {
      "image/png": "[encoded data removed]",
      "text/plain": [
       "<Figure size 432x288 with 1 Axes>"
      ]
     },
     "metadata": {
      "needs_background": "light"
     },
     "output_type": "display_data"
    }
   ],
   "source": [
    "dnnClf.fit(x=X_train, \n",
    "          y=y_train, \n",
    "          epochs=400,\n",
    "          validation_data=(X_val, y_val), verbose=1,\n",
    "          callbacks=[early_stop]\n",
    "          )\n",
    "model_loss = pd.DataFrame(dnnClf.history.history)\n",
    "model_loss.plot()"
   ]
  },
  {
   "cell_type": "code",
   "execution_count": 6,
   "metadata": {},
   "outputs": [
    {
     "name": "stdout",
     "output_type": "stream",
     "text": [
      "DNN Accuracy: 0.67\n"
     ]
    }
   ],
   "source": [
    "dnnPreds = dnnClf.predict(scaler.transform(X_VAL))\n",
    "dnnPreds = [round(i[0]) for i in dnnPreds]\n",
    "dnnAcc = metrics.accuracy_score(dnnPreds, y_VAL)\n",
    "print(\"DNN Accuracy:\",round(dnnAcc,3))"
   ]
  },
  {
   "cell_type": "markdown",
   "metadata": {},
   "source": [
    "### 2- SVM:\n",
    "Using a Support Vector Machine with a linear kernel"
   ]
  },
  {
   "cell_type": "code",
   "execution_count": 7,
   "metadata": {},
   "outputs": [
    {
     "name": "stdout",
     "output_type": "stream",
     "text": [
      "SVM Accuracy: 0.682\n"
     ]
    }
   ],
   "source": [
    "svmClf = SVC(kernel=\"linear\")\n",
    "svmClf.fit(X_TRAIN,y_TRAIN)\n",
    "svmPreds = svmClf.predict(X_VAL)\n",
    "svmAcc = metrics.accuracy_score(svmPreds, y_VAL)\n",
    "print(\"SVM Accuracy:\",round(svmAcc,3))\n",
    "\n",
    "# svm hp-tuning with gridSearch\n",
    "#svm_param = {\"kernel\":(\"linear\",\"poly\",\"rbf\", \"sigmoid\"),\n",
    "#            \"C\":[1,52,10],\n",
    "#            \"degree\":[3,8],\n",
    "#            \"gamma\":(\"auto\",\"scale\"),\n",
    "#            \"coef0\":[0.001,10,0.5]}\n",
    "#svmClf = SVC()\n",
    "#svmGrid = GridSearchCV(svmClf, svm_param,cv=2)\n",
    "#svmGrid.fit(X_TRAIN, y_TRAIN)"
   ]
  },
  {
   "cell_type": "markdown",
   "metadata": {},
   "source": [
    "### 3- RF:\n",
    "Random Forest"
   ]
  },
  {
   "cell_type": "code",
   "execution_count": 8,
   "metadata": {},
   "outputs": [
    {
     "name": "stdout",
     "output_type": "stream",
     "text": [
      "RF Accuracy: 0.679\n"
     ]
    }
   ],
   "source": [
    "rfClf = RandomForestRegressor(n_estimators = 1000, random_state = SEED)\n",
    "rfClf.fit(X_TRAIN, y_TRAIN)\n",
    "rfPreds = rfClf.predict(X_VAL)\n",
    "rfPreds = [round(i) for i in rfPreds]\n",
    "rfAcc = metrics.accuracy_score(rfPreds,y_VAL)\n",
    "print(\"RF Accuracy:\",round(rfAcc,3))"
   ]
  },
  {
   "cell_type": "markdown",
   "metadata": {},
   "source": [
    "### 4- Ensemble Method:\n",
    "Ensemble method aggregates the votes of each model and gives the most frequent vote as output"
   ]
  },
  {
   "cell_type": "code",
   "execution_count": 9,
   "metadata": {},
   "outputs": [
    {
     "name": "stdout",
     "output_type": "stream",
     "text": [
      "=====================================================================================================================================================================================================================================================================================================================================================================================================================================================================================================================================================================================================================================================================================\n",
      "Ensemble Accuracy: 0.681\n"
     ]
    }
   ],
   "source": [
    "def predictEnsemble(sample):\n",
    "    print(\"=\",end=\"\")\n",
    "    dnnPred = dnnClf.predict(scaler.transform(sample.reshape(1,-1))).tolist()[0][0]\n",
    "    svmPred = svmClf.predict(sample.reshape(1,-1)).tolist()[0]\n",
    "    rfPred = rfClf.predict(sample.reshape(1,-1)).tolist()[0]\n",
    "    \n",
    "    ensPred = []\n",
    "    ensPred.append([dnnPred,svmPred,rfPred])\n",
    "    #print(ensPred)\n",
    "    ensPred = [round(i) for i in ensPred[0]]\n",
    "    \n",
    "    return(max(set(ensPred), key=ensPred.count)) # return mode, i.e: most frequent\n",
    "\n",
    "ensPreds = []\n",
    "[ensPreds.append(predictEnsemble(e)) for e in X_VAL]\n",
    "ensAcc = metrics.accuracy_score(ensPreds,y_VAL)\n",
    "print(\"\\nEnsemble Accuracy:\",round(ensAcc,3))"
   ]
  },
  {
   "cell_type": "markdown",
   "metadata": {},
   "source": [
    "## Performance Evaluation:"
   ]
  },
  {
   "cell_type": "code",
   "execution_count": 10,
   "metadata": {},
   "outputs": [
    {
     "name": "stdout",
     "output_type": "stream",
     "text": [
      "Accuracy on unseen test dataset\n",
      "DNN Accuracy: 0.677\n",
      "SVM Accuracy: 0.672\n",
      "RF Accuracy: 0.672\n",
      "========================================================================================================================================================================================================================================\n",
      "Ensemble Accuracy: 0.677\n"
     ]
    }
   ],
   "source": [
    "print(\"Accuracy on unseen test dataset\")\n",
    "TEST = pd.read_csv(\"data/UFC_TEST.csv\")\n",
    "X_TEST = TEST.drop([\"date\",\"B_fighter\",\"R_fighter\",\"Winner\"],axis=1).values\n",
    "y_TEST = TEST[\"Winner\"].values\n",
    "\n",
    "dnnPreds2 = dnnClf.predict(scaler.transform(X_TEST))\n",
    "dnnPreds2 = [round(i[0]) for i in dnnPreds2]\n",
    "dnnAcc2 = metrics.accuracy_score(dnnPreds2, y_TEST)\n",
    "print(\"DNN Accuracy:\",round(dnnAcc2,3))\n",
    "\n",
    "svmPreds2 = svmClf.predict(X_TEST)\n",
    "svmAcc2 = metrics.accuracy_score(svmPreds2, y_TEST)\n",
    "print(\"SVM Accuracy:\",round(svmAcc2,3))\n",
    "\n",
    "rfPreds2 = rfClf.predict(X_TEST)\n",
    "rfPreds2 = [round(i) for i in rfPreds2]\n",
    "rfAcc2 = metrics.accuracy_score(rfPreds2, y_TEST)\n",
    "print(\"RF Accuracy:\",round(rfAcc2,3))\n",
    "\n",
    "ensPreds2 = []\n",
    "[ensPreds2.append(predictEnsemble(e)) for e in X_TEST]\n",
    "ensAcc2 = metrics.accuracy_score(ensPreds2,y_TEST)\n",
    "print(\"\\nEnsemble Accuracy:\",round(ensAcc2,3))"
   ]
  },
  {
   "cell_type": "code",
   "execution_count": 11,
   "metadata": {},
   "outputs": [
    {
     "data": {
      "text/plain": [
       "<matplotlib.axes._subplots.AxesSubplot at 0x1a478237d0>"
      ]
     },
     "execution_count": 11,
     "metadata": {},
     "output_type": "execute_result"
    },
    {
     "data": {
      "image/png": "[encoded data removed]",
      "text/plain": [
       "<Figure size 432x288 with 1 Axes>"
      ]
     },
     "metadata": {
      "needs_background": "light"
     },
     "output_type": "display_data"
    }
   ],
   "source": [
    "accTable = pd.DataFrame({\"Model\":[\"DNN\",\"SVM\",\"RF\",\"Ensemble\"], \"Val_Accuracy\":[dnnAcc,svmAcc,rfAcc,ensAcc],\n",
    "                         \"Test_Accuracy\":[dnnAcc2,svmAcc2,rfAcc2,ensAcc2]})\n",
    "accTable.plot(kind=\"bar\",ylim=(0.6,0.75),x=\"Model\",title=\"Models Performance on Validation and Test Data\")"
   ]
  },
  {
   "cell_type": "code",
   "execution_count": 12,
   "metadata": {},
   "outputs": [],
   "source": [
    "# save models to disk\n",
    "import pickle\n",
    "dnnClf.save('resources/dnn_model.h5')\n",
    "pickle.dump(svmClf, open('resources/svm_model.sav', 'wb'))\n",
    "pickle.dump(rfClf, open('resources/rf_model.sav', 'wb'))\n",
    "pickle.dump(scaler, open('resources/scaler.pkl', 'wb'))"
   ]
  },
  {
   "cell_type": "code",
   "execution_count": null,
   "metadata": {},
   "outputs": [],
   "source": []
  }
 ],
 "metadata": {
  "kernelspec": {
   "display_name": "Python 3",
   "language": "python",
   "name": "python3"
  },
  "language_info": {
   "codemirror_mode": {
    "name": "ipython",
    "version": 3
   },
   "file_extension": ".py",
   "mimetype": "text/x-python",
   "name": "python",
   "nbconvert_exporter": "python",
   "pygments_lexer": "ipython3",
   "version": "3.7.4"
  }
 },
 "nbformat": 4,
 "nbformat_minor": 4
}
