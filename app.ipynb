{
 "cells": [
  {
   "cell_type": "code",
   "execution_count": 6,
   "metadata": {},
   "outputs": [],
   "source": [
    "\n",
    "def predictEnsemble(sample):\n",
    "    \n",
    "    import pickle\n",
    "    from tensorflow.keras.models import load_model\n",
    "\n",
    "    #scaler = pickle.load(open(\"resources/scaler.pkl\", 'rb'))\n",
    "    #dnnClf = load_model('resources/dnn_model.h5')\n",
    "    svmClf = pickle.load(open(\"resources/svm_model.sav\", 'rb'))\n",
    "    rfClf = pickle.load(open(\"resources/rf_model.sav\", 'rb'))\n",
    "    xgbClf = pickle.load(open(\"resources/xgb_model.sav\", 'rb'))\n",
    "    lrClf = pickle.load(open(\"resources/lr_model.sav\", 'rb'))\n",
    "\n",
    "#    print(\"=\",end=\"\")\n",
    "    #dnnPred = dnnClf.predict(scaler.transform(sample.reshape(1,-1))).tolist()[0][0]\n",
    "    svmPred = svmClf.predict(sample.reshape(1,-1)).tolist()[0]\n",
    "    rfPred = rfClf.predict(sample.reshape(1,-1)).tolist()[0]\n",
    "    xgbPred = xgbClf.predict(sample.reshape(1,-1)).tolist()[0]\n",
    "    lrPred = lrClf.predict(sample.reshape(1,-1)).tolist()[0]\n",
    "\n",
    "    ensPred = []\n",
    "    ensPred.append([svmPred, rfPred, xgbPred, lrPred])\n",
    "   # print(ensPred)\n",
    "    ensPred = [round(i) for i in ensPred[0]]\n",
    "#    print(ensPred)\n",
    "    \n",
    "#    print(max(set(ensPred), key=ensPred.count))\n",
    "    return(max(set(ensPred), key=ensPred.count)) # return mode, i.e: most frequent\n",
    "\n"
   ]
  },
  {
   "cell_type": "code",
   "execution_count": 7,
   "metadata": {},
   "outputs": [],
   "source": [
    "def predictMatchByID(B,R):\n",
    "    import pandas as pd\n",
    "    df = pd.read_csv(\"data/FIGHTER_STAT.csv\")\n",
    "    \n",
    "    blueFighter = df[df[\"ID\"] == B].iloc[:,3:]\n",
    "    blueFighter.columns = ['B_'+col for col in blueFighter.columns] #concat prefix B_ and rename columns\n",
    "    redFighter = df[df[\"ID\"] == R].iloc[:,3:]\n",
    "    redFighter.columns = ['R_'+col for col in redFighter.columns]\n",
    "\n",
    "    blueFighter.reset_index(drop=True,inplace=True)\n",
    "    redFighter.reset_index(drop=True,inplace=True)\n",
    "    toPredict = pd.concat([blueFighter,redFighter],axis=1).values\n",
    "    \n",
    "    return(predictEnsemble(toPredict))\n",
    "\n",
    "\n"
   ]
  },
  {
   "cell_type": "code",
   "execution_count": 8,
   "metadata": {},
   "outputs": [
    {
     "name": "stdout",
     "output_type": "stream",
     "text": [
      "181\n",
      "889\n",
      "-----> 0\n",
      "-----> 1\n",
      "108\n",
      "608\n",
      "-----> 0\n",
      "-----> 0\n",
      "254\n",
      "664\n",
      "-----> 0\n",
      "-----> 0\n",
      "179\n",
      "15\n",
      "-----> 1\n",
      "-----> 0\n",
      "81\n",
      "427\n",
      "-----> 0\n",
      "-----> 0\n",
      "630\n",
      "618\n",
      "-----> 0\n",
      "-----> 0\n",
      "286\n",
      "663\n",
      "-----> 0\n",
      "-----> 0\n",
      "431\n",
      "669\n",
      "-----> 0\n",
      "-----> 0\n",
      "380\n",
      "814\n",
      "-----> 0\n",
      "-----> 0\n",
      "502\n",
      "392\n",
      "-----> 1\n",
      "-----> 0\n",
      "988\n",
      "223\n",
      "-----> 0\n",
      "-----> 0\n",
      "137\n",
      "662\n",
      "-----> 0\n",
      "-----> 0\n",
      "668\n",
      "865\n",
      "-----> 0\n",
      "-----> 0\n",
      "873\n",
      "494\n",
      "-----> 0\n",
      "-----> 0\n",
      "134\n",
      "332\n",
      "-----> 0\n",
      "-----> 0\n",
      "916\n",
      "84\n",
      "-----> 0\n",
      "-----> 0\n",
      "252\n",
      "298\n",
      "-----> 0\n",
      "-----> 0\n",
      "597\n",
      "822\n",
      "-----> 0\n",
      "-----> 0\n",
      "830\n",
      "915\n",
      "-----> 0\n",
      "-----> 0\n",
      "912\n",
      "310\n"
     ]
    },
    {
     "ename": "KeyboardInterrupt",
     "evalue": "",
     "output_type": "error",
     "traceback": [
      "\u001b[0;31m---------------------------------------------------------------------------\u001b[0m",
      "\u001b[0;31mKeyboardInterrupt\u001b[0m                         Traceback (most recent call last)",
      "\u001b[0;32m<ipython-input-8-90c3480ec402>\u001b[0m in \u001b[0;36m<module>\u001b[0;34m\u001b[0m\n\u001b[1;32m      9\u001b[0m         \u001b[0mprint\u001b[0m\u001b[0;34m(\u001b[0m\u001b[0mj\u001b[0m\u001b[0;34m)\u001b[0m\u001b[0;34m\u001b[0m\u001b[0;34m\u001b[0m\u001b[0m\n\u001b[1;32m     10\u001b[0m \u001b[0;34m\u001b[0m\u001b[0m\n\u001b[0;32m---> 11\u001b[0;31m         \u001b[0mpred_i_j\u001b[0m \u001b[0;34m=\u001b[0m \u001b[0mpredictMatchByID\u001b[0m\u001b[0;34m(\u001b[0m\u001b[0mi\u001b[0m\u001b[0;34m,\u001b[0m\u001b[0mj\u001b[0m\u001b[0;34m)\u001b[0m\u001b[0;34m\u001b[0m\u001b[0;34m\u001b[0m\u001b[0m\n\u001b[0m\u001b[1;32m     12\u001b[0m         \u001b[0mprint\u001b[0m\u001b[0;34m(\u001b[0m\u001b[0;34m\"----->\"\u001b[0m\u001b[0;34m,\u001b[0m\u001b[0mpred_i_j\u001b[0m\u001b[0;34m)\u001b[0m\u001b[0;34m\u001b[0m\u001b[0;34m\u001b[0m\u001b[0m\n\u001b[1;32m     13\u001b[0m         \u001b[0mi_j\u001b[0m\u001b[0;34m.\u001b[0m\u001b[0mappend\u001b[0m\u001b[0;34m(\u001b[0m\u001b[0mpred_i_j\u001b[0m\u001b[0;34m)\u001b[0m\u001b[0;34m\u001b[0m\u001b[0;34m\u001b[0m\u001b[0m\n",
      "\u001b[0;32m<ipython-input-7-e2f2455229e9>\u001b[0m in \u001b[0;36mpredictMatchByID\u001b[0;34m(B, R)\u001b[0m\n\u001b[1;32m     12\u001b[0m     \u001b[0mtoPredict\u001b[0m \u001b[0;34m=\u001b[0m \u001b[0mpd\u001b[0m\u001b[0;34m.\u001b[0m\u001b[0mconcat\u001b[0m\u001b[0;34m(\u001b[0m\u001b[0;34m[\u001b[0m\u001b[0mblueFighter\u001b[0m\u001b[0;34m,\u001b[0m\u001b[0mredFighter\u001b[0m\u001b[0;34m]\u001b[0m\u001b[0;34m,\u001b[0m\u001b[0maxis\u001b[0m\u001b[0;34m=\u001b[0m\u001b[0;36m1\u001b[0m\u001b[0;34m)\u001b[0m\u001b[0;34m.\u001b[0m\u001b[0mvalues\u001b[0m\u001b[0;34m\u001b[0m\u001b[0;34m\u001b[0m\u001b[0m\n\u001b[1;32m     13\u001b[0m \u001b[0;34m\u001b[0m\u001b[0m\n\u001b[0;32m---> 14\u001b[0;31m     \u001b[0;32mreturn\u001b[0m\u001b[0;34m(\u001b[0m\u001b[0mpredictEnsemble\u001b[0m\u001b[0;34m(\u001b[0m\u001b[0mtoPredict\u001b[0m\u001b[0;34m)\u001b[0m\u001b[0;34m)\u001b[0m\u001b[0;34m\u001b[0m\u001b[0;34m\u001b[0m\u001b[0m\n\u001b[0m\u001b[1;32m     15\u001b[0m \u001b[0;34m\u001b[0m\u001b[0m\n\u001b[1;32m     16\u001b[0m \u001b[0;34m\u001b[0m\u001b[0m\n",
      "\u001b[0;32m<ipython-input-6-ebdd05dbb0d5>\u001b[0m in \u001b[0;36mpredictEnsemble\u001b[0;34m(sample)\u001b[0m\n\u001b[1;32m     14\u001b[0m     \u001b[0;31m#dnnPred = dnnClf.predict(scaler.transform(sample.reshape(1,-1))).tolist()[0][0]\u001b[0m\u001b[0;34m\u001b[0m\u001b[0;34m\u001b[0m\u001b[0;34m\u001b[0m\u001b[0m\n\u001b[1;32m     15\u001b[0m     \u001b[0msvmPred\u001b[0m \u001b[0;34m=\u001b[0m \u001b[0msvmClf\u001b[0m\u001b[0;34m.\u001b[0m\u001b[0mpredict\u001b[0m\u001b[0;34m(\u001b[0m\u001b[0msample\u001b[0m\u001b[0;34m.\u001b[0m\u001b[0mreshape\u001b[0m\u001b[0;34m(\u001b[0m\u001b[0;36m1\u001b[0m\u001b[0;34m,\u001b[0m\u001b[0;34m-\u001b[0m\u001b[0;36m1\u001b[0m\u001b[0;34m)\u001b[0m\u001b[0;34m)\u001b[0m\u001b[0;34m.\u001b[0m\u001b[0mtolist\u001b[0m\u001b[0;34m(\u001b[0m\u001b[0;34m)\u001b[0m\u001b[0;34m[\u001b[0m\u001b[0;36m0\u001b[0m\u001b[0;34m]\u001b[0m\u001b[0;34m\u001b[0m\u001b[0;34m\u001b[0m\u001b[0m\n\u001b[0;32m---> 16\u001b[0;31m     \u001b[0mrfPred\u001b[0m \u001b[0;34m=\u001b[0m \u001b[0mrfClf\u001b[0m\u001b[0;34m.\u001b[0m\u001b[0mpredict\u001b[0m\u001b[0;34m(\u001b[0m\u001b[0msample\u001b[0m\u001b[0;34m.\u001b[0m\u001b[0mreshape\u001b[0m\u001b[0;34m(\u001b[0m\u001b[0;36m1\u001b[0m\u001b[0;34m,\u001b[0m\u001b[0;34m-\u001b[0m\u001b[0;36m1\u001b[0m\u001b[0;34m)\u001b[0m\u001b[0;34m)\u001b[0m\u001b[0;34m.\u001b[0m\u001b[0mtolist\u001b[0m\u001b[0;34m(\u001b[0m\u001b[0;34m)\u001b[0m\u001b[0;34m[\u001b[0m\u001b[0;36m0\u001b[0m\u001b[0;34m]\u001b[0m\u001b[0;34m\u001b[0m\u001b[0;34m\u001b[0m\u001b[0m\n\u001b[0m\u001b[1;32m     17\u001b[0m     \u001b[0mxgbPred\u001b[0m \u001b[0;34m=\u001b[0m \u001b[0mxgbClf\u001b[0m\u001b[0;34m.\u001b[0m\u001b[0mpredict\u001b[0m\u001b[0;34m(\u001b[0m\u001b[0msample\u001b[0m\u001b[0;34m.\u001b[0m\u001b[0mreshape\u001b[0m\u001b[0;34m(\u001b[0m\u001b[0;36m1\u001b[0m\u001b[0;34m,\u001b[0m\u001b[0;34m-\u001b[0m\u001b[0;36m1\u001b[0m\u001b[0;34m)\u001b[0m\u001b[0;34m)\u001b[0m\u001b[0;34m.\u001b[0m\u001b[0mtolist\u001b[0m\u001b[0;34m(\u001b[0m\u001b[0;34m)\u001b[0m\u001b[0;34m[\u001b[0m\u001b[0;36m0\u001b[0m\u001b[0;34m]\u001b[0m\u001b[0;34m\u001b[0m\u001b[0;34m\u001b[0m\u001b[0m\n\u001b[1;32m     18\u001b[0m     \u001b[0mlrPred\u001b[0m \u001b[0;34m=\u001b[0m \u001b[0mlrClf\u001b[0m\u001b[0;34m.\u001b[0m\u001b[0mpredict\u001b[0m\u001b[0;34m(\u001b[0m\u001b[0msample\u001b[0m\u001b[0;34m.\u001b[0m\u001b[0mreshape\u001b[0m\u001b[0;34m(\u001b[0m\u001b[0;36m1\u001b[0m\u001b[0;34m,\u001b[0m\u001b[0;34m-\u001b[0m\u001b[0;36m1\u001b[0m\u001b[0;34m)\u001b[0m\u001b[0;34m)\u001b[0m\u001b[0;34m.\u001b[0m\u001b[0mtolist\u001b[0m\u001b[0;34m(\u001b[0m\u001b[0;34m)\u001b[0m\u001b[0;34m[\u001b[0m\u001b[0;36m0\u001b[0m\u001b[0;34m]\u001b[0m\u001b[0;34m\u001b[0m\u001b[0;34m\u001b[0m\u001b[0m\n",
      "\u001b[0;32m~/opt/anaconda3/lib/python3.7/site-packages/sklearn/ensemble/forest.py\u001b[0m in \u001b[0;36mpredict\u001b[0;34m(self, X)\u001b[0m\n\u001b[1;32m    707\u001b[0m                  \u001b[0;34m**\u001b[0m\u001b[0m_joblib_parallel_args\u001b[0m\u001b[0;34m(\u001b[0m\u001b[0mrequire\u001b[0m\u001b[0;34m=\u001b[0m\u001b[0;34m\"sharedmem\"\u001b[0m\u001b[0;34m)\u001b[0m\u001b[0;34m)\u001b[0m\u001b[0;34m(\u001b[0m\u001b[0;34m\u001b[0m\u001b[0;34m\u001b[0m\u001b[0m\n\u001b[1;32m    708\u001b[0m             \u001b[0mdelayed\u001b[0m\u001b[0;34m(\u001b[0m\u001b[0m_accumulate_prediction\u001b[0m\u001b[0;34m)\u001b[0m\u001b[0;34m(\u001b[0m\u001b[0me\u001b[0m\u001b[0;34m.\u001b[0m\u001b[0mpredict\u001b[0m\u001b[0;34m,\u001b[0m \u001b[0mX\u001b[0m\u001b[0;34m,\u001b[0m \u001b[0;34m[\u001b[0m\u001b[0my_hat\u001b[0m\u001b[0;34m]\u001b[0m\u001b[0;34m,\u001b[0m \u001b[0mlock\u001b[0m\u001b[0;34m)\u001b[0m\u001b[0;34m\u001b[0m\u001b[0;34m\u001b[0m\u001b[0m\n\u001b[0;32m--> 709\u001b[0;31m             for e in self.estimators_)\n\u001b[0m\u001b[1;32m    710\u001b[0m \u001b[0;34m\u001b[0m\u001b[0m\n\u001b[1;32m    711\u001b[0m         \u001b[0my_hat\u001b[0m \u001b[0;34m/=\u001b[0m \u001b[0mlen\u001b[0m\u001b[0;34m(\u001b[0m\u001b[0mself\u001b[0m\u001b[0;34m.\u001b[0m\u001b[0mestimators_\u001b[0m\u001b[0;34m)\u001b[0m\u001b[0;34m\u001b[0m\u001b[0;34m\u001b[0m\u001b[0m\n",
      "\u001b[0;32m~/opt/anaconda3/lib/python3.7/site-packages/joblib/parallel.py\u001b[0m in \u001b[0;36m__call__\u001b[0;34m(self, iterable)\u001b[0m\n\u001b[1;32m    923\u001b[0m \u001b[0;34m\u001b[0m\u001b[0m\n\u001b[1;32m    924\u001b[0m             \u001b[0;32mwhile\u001b[0m \u001b[0mself\u001b[0m\u001b[0;34m.\u001b[0m\u001b[0mdispatch_one_batch\u001b[0m\u001b[0;34m(\u001b[0m\u001b[0miterator\u001b[0m\u001b[0;34m)\u001b[0m\u001b[0;34m:\u001b[0m\u001b[0;34m\u001b[0m\u001b[0;34m\u001b[0m\u001b[0m\n\u001b[0;32m--> 925\u001b[0;31m                 \u001b[0;32mpass\u001b[0m\u001b[0;34m\u001b[0m\u001b[0;34m\u001b[0m\u001b[0m\n\u001b[0m\u001b[1;32m    926\u001b[0m \u001b[0;34m\u001b[0m\u001b[0m\n\u001b[1;32m    927\u001b[0m             \u001b[0;32mif\u001b[0m \u001b[0mpre_dispatch\u001b[0m \u001b[0;34m==\u001b[0m \u001b[0;34m\"all\"\u001b[0m \u001b[0;32mor\u001b[0m \u001b[0mn_jobs\u001b[0m \u001b[0;34m==\u001b[0m \u001b[0;36m1\u001b[0m\u001b[0;34m:\u001b[0m\u001b[0;34m\u001b[0m\u001b[0;34m\u001b[0m\u001b[0m\n",
      "\u001b[0;31mKeyboardInterrupt\u001b[0m: "
     ]
    }
   ],
   "source": [
    "import numpy as np\n",
    "I = np.random.randint(low=1, high=1000, size=100)\n",
    "\n",
    "i_j = []\n",
    "j_i = []\n",
    "for i in np.random.randint(low=1, high=1000, size=100):\n",
    "    print(i)\n",
    "    for j in np.random.randint(low=1, high=1000, size=100):\n",
    "        print(j)\n",
    "        \n",
    "        pred_i_j = predictMatchByID(i,j)\n",
    "        print(\"----->\",pred_i_j)\n",
    "        i_j.append(pred_i_j)\n",
    "        \n",
    "        pred_j_i = predictMatchByID(j,i)\n",
    "        print(\"----->\",pred_j_i)\n",
    "        i_j.append(pred_j_i)\n",
    "        break"
   ]
  },
  {
   "cell_type": "code",
   "execution_count": 11,
   "metadata": {},
   "outputs": [
    {
     "name": "stdout",
     "output_type": "stream",
     "text": [
      "0\n"
     ]
    }
   ],
   "source": [
    "print(predictMatchByID(46,813))"
   ]
  },
  {
   "cell_type": "code",
   "execution_count": null,
   "metadata": {},
   "outputs": [],
   "source": [
    "import pandas as pd\n",
    "dftest = pd.read_csv(\"FIGHTER_STAT.csv\")\n",
    "dftest[dftest[\"fighter\"] == \"Marlon Moraes\"][[\"ID\",\"fighter\"]]\n",
    "#print(dftest[dftest[\"fighter\"] == \"DonaldCerrone\"][\"ID\"])"
   ]
  },
  {
   "cell_type": "code",
   "execution_count": null,
   "metadata": {},
   "outputs": [],
   "source": [
    "dftest[dftest[\"fighter\"] == \"Jose Aldo\"][[\"ID\",\"fighter\"]]"
   ]
  },
  {
   "cell_type": "markdown",
   "metadata": {},
   "source": [
    "curtis 334 red\n",
    "jds 861 blue\n",
    "0 -> red ok    red-ok    0-ok  \n",
    "\n",
    "rafael 1259\n",
    "chiesa 1100\n",
    "0 -> red fail   ok       0-fail\n",
    "\n",
    "jordan 813\n",
    "perez 46\n",
    "0 -> red fail    ok     0-fail\n",
    "\n",
    "hannah 593\n",
    "angela 101\n",
    "0 -> red fail  fail\n",
    "\n"
   ]
  }
 ],
 "metadata": {
  "kernelspec": {
   "display_name": "Python 3",
   "language": "python",
   "name": "python3"
  },
  "language_info": {
   "codemirror_mode": {
    "name": "ipython",
    "version": 3
   },
   "file_extension": ".py",
   "mimetype": "text/x-python",
   "name": "python",
   "nbconvert_exporter": "python",
   "pygments_lexer": "ipython3",
   "version": "3.7.4"
  }
 },
 "nbformat": 4,
 "nbformat_minor": 4
}
