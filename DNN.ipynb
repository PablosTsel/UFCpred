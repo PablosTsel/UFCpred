{
 "cells": [
  {
   "cell_type": "markdown",
   "metadata": {},
   "source": [
    "# Deep Neural Network Model\n",
    "---\n",
    "\n",
    "### DNN on normal Dataset:"
   ]
  },
  {
   "cell_type": "code",
   "execution_count": 1,
   "metadata": {},
   "outputs": [
    {
     "data": {
      "text/plain": [
       "Red     3142\n",
       "Blue    1493\n",
       "Name: Winner, dtype: int64"
      ]
     },
     "execution_count": 1,
     "metadata": {},
     "output_type": "execute_result"
    }
   ],
   "source": [
    "import os\n",
    "os.environ[\"CUDA_VISIBLE_DEVICES\"] = \"-1\" # disable GPU\n",
    "import pandas as pd\n",
    "import numpy as np\n",
    "import matplotlib.pyplot as plt\n",
    "%matplotlib inline\n",
    "\n",
    "from sklearn.model_selection import train_test_split\n",
    "from sklearn.preprocessing import MinMaxScaler\n",
    "import tensorflow as tf\n",
    "from tensorflow.keras.models import Sequential\n",
    "from tensorflow.keras.layers import Dense, Activation,Dropout\n",
    "\n",
    "UFC_FINAL = pd.read_csv(\"UFC_FINAL.csv\")\n",
    "\n",
    "# tackling imbalance issue\n",
    "#theMin = UFC_FINAL[\"Winner\"].value_counts().min()\n",
    "#minority = UFC_FINAL[UFC_FINAL[\"Winner\"]==\"Blue\"].iloc[0:theMin]\n",
    "#undersampleMaj = UFC_FINAL[UFC_FINAL[\"Winner\"]==\"Red\"].iloc[0:theMin]\n",
    "#UFC_FINAL = pd.concat([minority, undersampleMaj], axis=0)\n",
    "#UFC_FINAL = UFC_FINAL.sample(frac=1).reset_index(drop=True)\n",
    "\n",
    "UFC_FINAL[\"Winner\"].value_counts()"
   ]
  },
  {
   "cell_type": "markdown",
   "metadata": {},
   "source": [
    "#### model with early stopping callback:"
   ]
  },
  {
   "cell_type": "code",
   "execution_count": 3,
   "metadata": {
    "scrolled": true
   },
   "outputs": [
    {
     "name": "stdout",
     "output_type": "stream",
     "text": [
      "X_train shape: (3476, 42) | X_test shape: (1159, 42) | y_train shape: (3476,) | y_test shape: (1159,)\n"
     ]
    }
   ],
   "source": [
    "# encode blue and red as 1 and 0\n",
    "UFC_FINAL[\"Winner\"] = UFC_FINAL[\"Winner\"].replace(\"Blue\", 1)\n",
    "UFC_FINAL[\"Winner\"] = UFC_FINAL[\"Winner\"].replace(\"Red\", 0)\n",
    "\n",
    "# train/test split\n",
    "X = UFC_FINAL.drop(\"Winner\", axis=1).values\n",
    "y = UFC_FINAL[\"Winner\"].values\n",
    "X_train, X_test, y_train, y_test = train_test_split(X,y, test_size=0.25, random_state=101)\n",
    "\n",
    "# scaling\n",
    "scaler = MinMaxScaler()\n",
    "scaler.fit(X_train)\n",
    "X_train = scaler.transform(X_train)\n",
    "X_test = scaler.transform(X_test)\n",
    "\n",
    "print(f\"X_train shape: {X_train.shape} | X_test shape: {X_test.shape} | y_train shape: {y_train.shape} | y_test shape: {y_test.shape}\")\n",
    "\n",
    "# model\n",
    "model = Sequential()\n",
    "\n",
    "# input layer\n",
    "model.add(Dense(units=42, activation='relu'))\n",
    "model.add(Dropout(0.5)) # deactivates 50% of nodes\n",
    "\n",
    "# h1\n",
    "model.add(Dense(units=42, activation='relu'))\n",
    "model.add(Dropout(0.5))\n",
    "\n",
    "# h2\n",
    "model.add(Dense(units=42, activation='relu'))\n",
    "model.add(Dropout(0.5))\n",
    "\n",
    "# h3\n",
    "model.add(Dense(units=20, activation='relu'))\n",
    "model.add(Dropout(0.5))\n",
    "\n",
    "# output layer\n",
    "model.add(Dense(units=1, activation='sigmoid'))\n",
    "\n",
    "model.compile(loss='binary_crossentropy', optimizer='adam', metrics=['accuracy'])\n",
    "\n",
    "from tensorflow.keras.callbacks import EarlyStopping # prevent diverge of loss & val_loss\n",
    "early_stop = EarlyStopping(monitor='val_loss', mode='min', verbose=1, patience=16)"
   ]
  },
  {
   "cell_type": "markdown",
   "metadata": {},
   "source": [
    "##### without PCA Performance"
   ]
  },
  {
   "cell_type": "code",
   "execution_count": 4,
   "metadata": {
    "scrolled": true
   },
   "outputs": [
    {
     "name": "stdout",
     "output_type": "stream",
     "text": [
      "WARNING:tensorflow:From /anaconda3/lib/python3.7/site-packages/tensorflow/python/ops/nn_impl.py:180: add_dispatch_support.<locals>.wrapper (from tensorflow.python.ops.array_ops) is deprecated and will be removed in a future version.\n",
      "Instructions for updating:\n",
      "Use tf.where in 2.0, which has the same broadcast rule as np.where\n",
      "Train on 3476 samples, validate on 1159 samples\n",
      "Epoch 1/10\n",
      "3476/3476 [==============================] - 2s 616us/sample - loss: 0.6601 - acc: 0.6513 - val_loss: 0.6484 - val_acc: 0.6644\n",
      "Epoch 2/10\n",
      "3476/3476 [==============================] - 1s 255us/sample - loss: 0.6396 - acc: 0.6792 - val_loss: 0.6414 - val_acc: 0.6644\n",
      "Epoch 3/10\n",
      "3476/3476 [==============================] - 1s 177us/sample - loss: 0.6349 - acc: 0.6818 - val_loss: 0.6383 - val_acc: 0.6644\n",
      "Epoch 4/10\n",
      "3476/3476 [==============================] - 1s 215us/sample - loss: 0.6305 - acc: 0.6821 - val_loss: 0.6382 - val_acc: 0.6644\n",
      "Epoch 5/10\n",
      "3476/3476 [==============================] - ETA: 0s - loss: 0.6320 - acc: 0.680 - 1s 179us/sample - loss: 0.6305 - acc: 0.6827 - val_loss: 0.6345 - val_acc: 0.6644\n",
      "Epoch 6/10\n",
      "3476/3476 [==============================] - 1s 178us/sample - loss: 0.6289 - acc: 0.6824 - val_loss: 0.6336 - val_acc: 0.6644\n",
      "Epoch 7/10\n",
      "3476/3476 [==============================] - 1s 160us/sample - loss: 0.6254 - acc: 0.6824 - val_loss: 0.6317 - val_acc: 0.6644\n",
      "Epoch 8/10\n",
      "3476/3476 [==============================] - 1s 170us/sample - loss: 0.6230 - acc: 0.6824 - val_loss: 0.6293 - val_acc: 0.6644\n",
      "Epoch 9/10\n",
      "3476/3476 [==============================] - 1s 238us/sample - loss: 0.6226 - acc: 0.6824 - val_loss: 0.6289 - val_acc: 0.6644\n",
      "Epoch 10/10\n",
      "3476/3476 [==============================] - 1s 193us/sample - loss: 0.6214 - acc: 0.6824 - val_loss: 0.6278 - val_acc: 0.6644\n"
     ]
    },
    {
     "data": {
      "text/plain": [
       "<matplotlib.axes._subplots.AxesSubplot at 0x1a42ef2a20>"
      ]
     },
     "execution_count": 4,
     "metadata": {},
     "output_type": "execute_result"
    },
    {
     "data": {
      "image/png": "[encoded data removed]",
      "text/plain": [
       "<Figure size 432x288 with 1 Axes>"
      ]
     },
     "metadata": {
      "needs_background": "light"
     },
     "output_type": "display_data"
    }
   ],
   "source": [
    "model.fit(x=X_train, \n",
    "          y=y_train, \n",
    "          epochs=10,\n",
    "          validation_data=(X_test, y_test), verbose=1,\n",
    "          callbacks=[early_stop]\n",
    "          )\n",
    "model_loss = pd.DataFrame(model.history.history)\n",
    "model_loss.plot()"
   ]
  },
  {
   "cell_type": "markdown",
   "metadata": {},
   "source": [
    "### DNN on PCA-Performed Dataset:"
   ]
  },
  {
   "cell_type": "code",
   "execution_count": 5,
   "metadata": {},
   "outputs": [
    {
     "name": "stdout",
     "output_type": "stream",
     "text": [
      "X_train shape: (3244, 10) | X_test shape: (1391, 10) | y_train shape: (3244,) | y_test shape: (1391,)\n"
     ]
    }
   ],
   "source": [
    "UFC_PCA = pd.read_csv(\"UFC_PCA.csv\")\n",
    "\n",
    "UFC_PCA[\"Winner\"] = UFC_PCA[\"Winner\"].replace(\"Blue\",1)\n",
    "UFC_PCA[\"Winner\"] = UFC_PCA[\"Winner\"].replace(\"Red\",0)\n",
    "\n",
    "# train/test split\n",
    "X_pca = UFC_PCA.iloc[:,1:].values\n",
    "y_pca = UFC_PCA[\"Winner\"].values\n",
    "X_train_pca, X_test_pca, y_train_pca, y_test_pca = train_test_split(X_pca, y_pca, test_size=0.3, random_state=101)\n",
    "\n",
    "# scaling\n",
    "scaler_pca = MinMaxScaler()\n",
    "scaler_pca.fit(X_train_pca)\n",
    "X_train_pca = scaler_pca.transform(X_train_pca)\n",
    "X_test_pca = scaler_pca.transform(X_test_pca)\n",
    "\n",
    "print(f\"X_train shape: {X_train_pca.shape} | X_test shape: {X_test_pca.shape} | y_train shape: {y_train_pca.shape} | y_test shape: {y_test_pca.shape}\")\n",
    "\n",
    "# model\n",
    "model = Sequential()\n",
    "\n",
    "# input layer\n",
    "model.add(Dense(units=42, activation='relu'))\n",
    "model.add(Dropout(0.5)) # deactivates 50% of nodes\n",
    "\n",
    "# h1\n",
    "model.add(Dense(units=42, activation='relu'))\n",
    "model.add(Dropout(0.5))\n",
    "\n",
    "# h2\n",
    "model.add(Dense(units=42, activation='relu'))\n",
    "model.add(Dropout(0.5))\n",
    "\n",
    "# h3\n",
    "model.add(Dense(units=20, activation='relu'))\n",
    "model.add(Dropout(0.5))\n",
    "\n",
    "# output layer\n",
    "model.add(Dense(units=1, activation='sigmoid'))\n",
    "\n",
    "model.compile(loss='binary_crossentropy', optimizer='adam', metrics=['accuracy'])\n",
    "\n",
    "from tensorflow.keras.callbacks import EarlyStopping # prevent diverge of loss & val_loss\n",
    "early_stop = EarlyStopping(monitor='val_loss', mode='min', verbose=1, patience=16)"
   ]
  },
  {
   "cell_type": "markdown",
   "metadata": {},
   "source": [
    "##### PCA Performance:"
   ]
  },
  {
   "cell_type": "code",
   "execution_count": 6,
   "metadata": {
    "scrolled": true
   },
   "outputs": [
    {
     "name": "stdout",
     "output_type": "stream",
     "text": [
      "Train on 3244 samples, validate on 1391 samples\n",
      "Epoch 1/10\n",
      "3244/3244 [==============================] - 2s 583us/sample - loss: 0.6557 - acc: 0.6433 - val_loss: 0.6387 - val_acc: 0.6650\n",
      "Epoch 2/10\n",
      "3244/3244 [==============================] - 0s 154us/sample - loss: 0.6324 - acc: 0.6822 - val_loss: 0.6372 - val_acc: 0.6650\n",
      "Epoch 3/10\n",
      "3244/3244 [==============================] - 1s 174us/sample - loss: 0.6321 - acc: 0.6828 - val_loss: 0.6387 - val_acc: 0.6650\n",
      "Epoch 4/10\n",
      "3244/3244 [==============================] - 1s 267us/sample - loss: 0.6324 - acc: 0.6834 - val_loss: 0.6371 - val_acc: 0.6650\n",
      "Epoch 5/10\n",
      "3244/3244 [==============================] - 1s 199us/sample - loss: 0.6276 - acc: 0.6834 - val_loss: 0.6354 - val_acc: 0.6650\n",
      "Epoch 6/10\n",
      "3244/3244 [==============================] - 1s 206us/sample - loss: 0.6255 - acc: 0.6834 - val_loss: 0.6337 - val_acc: 0.6650\n",
      "Epoch 7/10\n",
      "3244/3244 [==============================] - 1s 175us/sample - loss: 0.6272 - acc: 0.6834 - val_loss: 0.6317 - val_acc: 0.6650\n",
      "Epoch 8/10\n",
      "3244/3244 [==============================] - 1s 199us/sample - loss: 0.6269 - acc: 0.6834 - val_loss: 0.6313 - val_acc: 0.6650\n",
      "Epoch 9/10\n",
      "3244/3244 [==============================] - 1s 157us/sample - loss: 0.6212 - acc: 0.6834 - val_loss: 0.6319 - val_acc: 0.6650\n",
      "Epoch 10/10\n",
      "3244/3244 [==============================] - 0s 153us/sample - loss: 0.6228 - acc: 0.6834 - val_loss: 0.6309 - val_acc: 0.6650\n"
     ]
    },
    {
     "data": {
      "text/plain": [
       "<matplotlib.axes._subplots.AxesSubplot at 0x1a44c392e8>"
      ]
     },
     "execution_count": 6,
     "metadata": {},
     "output_type": "execute_result"
    },
    {
     "data": {
      "image/png": "[encoded data removed]",
      "text/plain": [
       "<Figure size 432x288 with 1 Axes>"
      ]
     },
     "metadata": {
      "needs_background": "light"
     },
     "output_type": "display_data"
    }
   ],
   "source": [
    "model.fit(x=X_train_pca, \n",
    "          y=y_train_pca, \n",
    "          epochs=10,\n",
    "          validation_data=(X_test_pca, y_test_pca), verbose=1,\n",
    "          callbacks=[early_stop]\n",
    "          )\n",
    "\n",
    "model_loss = pd.DataFrame(model.history.history)\n",
    "model_loss.plot()"
   ]
  },
  {
   "cell_type": "code",
   "execution_count": null,
   "metadata": {},
   "outputs": [],
   "source": []
  }
 ],
 "metadata": {
  "kernelspec": {
   "display_name": "Python 3",
   "language": "python",
   "name": "python3"
  },
  "language_info": {
   "codemirror_mode": {
    "name": "ipython",
    "version": 3
   },
   "file_extension": ".py",
   "mimetype": "text/x-python",
   "name": "python",
   "nbconvert_exporter": "python",
   "pygments_lexer": "ipython3",
   "version": "3.7.3"
  }
 },
 "nbformat": 4,
 "nbformat_minor": 4
}
