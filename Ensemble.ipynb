{
 "cells": [
  {
   "cell_type": "markdown",
   "metadata": {},
   "source": [
    "# Machine Learning Models and Ensemble Method\n",
    "---\n"
   ]
  },
  {
   "cell_type": "code",
   "execution_count": 1,
   "metadata": {},
   "outputs": [],
   "source": [
    "import os\n",
    "os.environ[\"CUDA_VISIBLE_DEVICES\"] = \"-1\" # disable GPU\n",
    "import pandas as pd\n",
    "import numpy as np\n",
    "import matplotlib.pyplot as plt\n",
    "%matplotlib inline\n",
    "\n",
    "from sklearn.model_selection import train_test_split\n",
    "from sklearn.preprocessing import MinMaxScaler\n",
    "from sklearn import metrics\n",
    "from sklearn.svm import SVC\n",
    "from sklearn.ensemble import RandomForestRegressor\n",
    "from sklearn.model_selection import GridSearchCV\n",
    "import tensorflow as tf\n",
    "from tensorflow.keras.models import Sequential\n",
    "from tensorflow.keras.layers import Dense, Activation,Dropout\n",
    "\n",
    "SEED = 111 # constant seed for reproducibility\n",
    "#os.environ['PYTHONHASHSEED'] = str(SEED)\n",
    "#np.random.seed(SEED)\n",
    "#tf.random.set_seed(SEED)\n"
   ]
  },
  {
   "cell_type": "markdown",
   "metadata": {},
   "source": [
    "## Train/Test Split:"
   ]
  },
  {
   "cell_type": "code",
   "execution_count": 2,
   "metadata": {},
   "outputs": [],
   "source": [
    "df = pd.read_csv(\"UFC_TRAIN.csv\")\n",
    "\n",
    "# tackling imbalance issue\n",
    "theMin = df[\"Winner\"].value_counts().min()\n",
    "minority = df[df[\"Winner\"]==1].iloc[0:theMin]\n",
    "undersampleMaj = df[df[\"Winner\"]==0].iloc[0:theMin]\n",
    "df = pd.concat([minority, undersampleMaj], axis=0)\n",
    "df[\"Winner\"].value_counts()\n",
    "\n",
    "# train/test split\n",
    "X = df.drop([\"Winner\",\"B_fighter\",\"R_fighter\"], axis=1).values\n",
    "y = df[\"Winner\"].values\n",
    "X_TRAIN, X_TEST, y_TRAIN, y_TEST = train_test_split(X,y, test_size=0.1, random_state=SEED)\n",
    "\n"
   ]
  },
  {
   "cell_type": "markdown",
   "metadata": {},
   "source": [
    "#### Baseline: Always predict red (i.e: 0)"
   ]
  },
  {
   "cell_type": "code",
   "execution_count": 3,
   "metadata": {},
   "outputs": [
    {
     "data": {
      "text/plain": [
       "0.5"
      ]
     },
     "execution_count": 3,
     "metadata": {},
     "output_type": "execute_result"
    }
   ],
   "source": [
    "metrics.accuracy_score(np.zeros(len(df.index)),df[\"Winner\"])"
   ]
  },
  {
   "cell_type": "markdown",
   "metadata": {},
   "source": [
    "67.96 % Baseline"
   ]
  },
  {
   "cell_type": "markdown",
   "metadata": {},
   "source": [
    "## ML Models\n",
    "### 1- DNN:"
   ]
  },
  {
   "cell_type": "code",
   "execution_count": null,
   "metadata": {
    "scrolled": true
   },
   "outputs": [],
   "source": [
    "# scaling\n",
    "scaler = MinMaxScaler()\n",
    "scaler.fit(X_TRAIN)\n",
    "X_train = scaler.transform(X_TRAIN)\n",
    "X_test = scaler.transform(X_TEST)\n",
    "y_train = y_TRAIN\n",
    "y_test = y_TEST\n",
    "print(f\"X_train shape: {X_train.shape} | X_test shape: {X_test.shape} | y_train shape: {y_train.shape} | y_test shape: {y_test.shape}\")\n",
    "\n",
    "# model\n",
    "dnnClf = Sequential()\n",
    "\n",
    "# input layer\n",
    "dnnClf.add(Dense(units=42, activation='relu'))\n",
    "dnnClf.add(Dropout(0.25)) # deactivates 50% of nodes\n",
    "\n",
    "dnnClf.add(Dense(units=42, activation='relu'))\n",
    "dnnClf.add(Dropout(0.25)) # deactivates 50% of nodes\n",
    "\n",
    "dnnClf.add(Dense(units=42, activation='relu'))\n",
    "dnnClf.add(Dropout(0.25)) # deactivates 50% of nodes\n",
    "\n",
    "dnnClf.add(Dense(units=42, activation='relu'))\n",
    "\n",
    "dnnClf.add(Dense(units=42, activation='relu'))\n",
    "\n",
    "# output layer\n",
    "dnnClf.add(Dense(units=1, activation='sigmoid'))\n",
    "\n",
    "dnnClf.compile(loss='binary_crossentropy', optimizer='adam', metrics=['accuracy'])\n",
    "\n",
    "from tensorflow.keras.callbacks import EarlyStopping # prevent diverge of loss & val_loss\n",
    "early_stop = EarlyStopping(monitor='val_loss', mode='min', verbose=1, patience=16)"
   ]
  },
  {
   "cell_type": "code",
   "execution_count": null,
   "metadata": {
    "scrolled": true
   },
   "outputs": [],
   "source": [
    "dnnClf.fit(x=X_train, \n",
    "          y=y_train, \n",
    "          epochs=400,\n",
    "          validation_data=(X_test, y_test), verbose=1,\n",
    "          callbacks=[early_stop]\n",
    "          )\n",
    "model_loss = pd.DataFrame(dnnClf.history.history)\n",
    "model_loss.plot()"
   ]
  },
  {
   "cell_type": "code",
   "execution_count": null,
   "metadata": {},
   "outputs": [],
   "source": [
    "dnnPreds = dnnClf.predict(scaler.transform(X_TEST))\n",
    "dnnPreds = [round(i[0]) for i in dnnPreds]\n",
    "dnnAcc = metrics.accuracy_score(dnnPreds, y_TEST)\n",
    "print(dnnAcc)"
   ]
  },
  {
   "cell_type": "markdown",
   "metadata": {},
   "source": [
    "### 2- SVM:"
   ]
  },
  {
   "cell_type": "code",
   "execution_count": null,
   "metadata": {},
   "outputs": [],
   "source": [
    "svm_param = {\"kernel\":(\"linear\",\"poly\",\"rbf\", \"sigmoid\"),\n",
    "            \"C\":[1,52,10],\n",
    "            \"degree\":[3,8],\n",
    "            \"gamma\":(\"auto\",\"scale\"),\n",
    "            \"coef0\":[0.001,10,0.5]}\n",
    "svmClf = SVC()\n",
    "svmGrid = GridSearchCV(svmClf, svm_param,cv=2)\n",
    "svmGrid.fit(X_TRAIN, y_TRAIN)\n",
    "#svmPreds = svmClf.predict(X_TEST)\n",
    "#svmAcc = metrics.accuracy_score(svmPreds, y_TEST)\n",
    "#print(svmAcc)"
   ]
  },
  {
   "cell_type": "markdown",
   "metadata": {},
   "source": [
    "### 3- RF:"
   ]
  },
  {
   "cell_type": "code",
   "execution_count": null,
   "metadata": {},
   "outputs": [],
   "source": [
    "rfClf = RandomForestRegressor(n_estimators = 2000, random_state = SEED)\n",
    "rfClf.fit(X_TRAIN, y_TRAIN)\n",
    "rfPreds = rfClf.predict(X_TEST)\n",
    "rfPreds = [round(i) for i in rfPreds]\n",
    "rfAcc = metrics.accuracy_score(rfPreds,y_TEST)\n",
    "print(rfAcc)\n"
   ]
  },
  {
   "cell_type": "markdown",
   "metadata": {},
   "source": [
    "### 4- Ensemble Method:"
   ]
  },
  {
   "cell_type": "code",
   "execution_count": null,
   "metadata": {},
   "outputs": [],
   "source": [
    "def ensemble(sample):\n",
    "    ensPred = []\n",
    "    dnnPred = dnnClf.predict(scaler.transform(sample.reshape(1,-1))).tolist()[0][0]\n",
    "    svmPred = svmClf.predict(sample.reshape(1,-1)).tolist()[0]\n",
    "    rfPred = rfClf.predict(sample.reshape(1,-1)).tolist()[0]\n",
    "    \n",
    "    ensPred.append([dnnPred,svmPred,rfPred])\n",
    "    ensPred = [round(i) for i in ensPred[0]]\n",
    "    return(max(set(ensPred), key=ensPred.count))\n",
    "\n",
    "final_preds = []\n",
    "for i,e in enumerate(X_TEST):\n",
    "    final_preds.append(ensemble(e))\n",
    "    \n",
    "metrics.accuracy_score(final_preds,y_TEST)"
   ]
  },
  {
   "cell_type": "code",
   "execution_count": null,
   "metadata": {},
   "outputs": [],
   "source": []
  }
 ],
 "metadata": {
  "kernelspec": {
   "display_name": "Python 3",
   "language": "python",
   "name": "python3"
  },
  "language_info": {
   "codemirror_mode": {
    "name": "ipython",
    "version": 3
   },
   "file_extension": ".py",
   "mimetype": "text/x-python",
   "name": "python",
   "nbconvert_exporter": "python",
   "pygments_lexer": "ipython3",
   "version": "3.7.4"
  }
 },
 "nbformat": 4,
 "nbformat_minor": 4
}
