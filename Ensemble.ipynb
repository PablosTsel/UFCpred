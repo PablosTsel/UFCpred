{
 "cells": [
  {
   "cell_type": "markdown",
   "metadata": {},
   "source": [
    "# Machine Learning Models and Ensemble Method\n",
    "---\n"
   ]
  },
  {
   "cell_type": "code",
   "execution_count": 1,
   "metadata": {},
   "outputs": [],
   "source": [
    "import os\n",
    "os.environ[\"CUDA_VISIBLE_DEVICES\"] = \"-1\" # disable GPU\n",
    "import pandas as pd\n",
    "import numpy as np\n",
    "import matplotlib.pyplot as plt\n",
    "import seaborn as sns\n",
    "%matplotlib inline\n",
    "\n",
    "from sklearn.model_selection import train_test_split\n",
    "from sklearn.preprocessing import MinMaxScaler\n",
    "from sklearn import metrics\n",
    "from sklearn.svm import SVC\n",
    "from sklearn.ensemble import RandomForestRegressor\n",
    "from sklearn.model_selection import GridSearchCV\n",
    "import tensorflow as tf\n",
    "from tensorflow.keras.models import Sequential\n",
    "from tensorflow.keras.layers import Dense, Activation,Dropout\n",
    "\n",
    "SEED = 111 # constant seed for reproducibility\n",
    "#os.environ['PYTHONHASHSEED'] = str(SEED)\n",
    "#np.random.seed(SEED)\n",
    "#tf.random.set_seed(SEED)\n"
   ]
  },
  {
   "cell_type": "markdown",
   "metadata": {},
   "source": [
    "## Train/Test Split:"
   ]
  },
  {
   "cell_type": "code",
   "execution_count": 2,
   "metadata": {},
   "outputs": [],
   "source": [
    "df = pd.read_csv(\"UFC_TRAIN.csv\")\n",
    "\n",
    "# tackling imbalance issue\n",
    "theMin = df[\"Winner\"].value_counts().min()\n",
    "minority = df[df[\"Winner\"]==1].iloc[0:theMin]\n",
    "undersampleMaj = df[df[\"Winner\"]==0].iloc[0:theMin]\n",
    "df = pd.concat([minority, undersampleMaj], axis=0)\n",
    "df[\"Winner\"].value_counts()\n",
    "\n",
    "# train/test split\n",
    "X = df.drop([\"date\",\"Winner\",\"B_fighter\",\"R_fighter\"], axis=1).values\n",
    "y = df[\"Winner\"].values\n",
    "X_TRAIN, X_TEST, y_TRAIN, y_TEST = train_test_split(X,y, test_size=0.1, random_state=SEED)\n",
    "\n"
   ]
  },
  {
   "cell_type": "markdown",
   "metadata": {},
   "source": [
    "#### Baseline: Always predict red (i.e: 0)"
   ]
  },
  {
   "cell_type": "code",
   "execution_count": 3,
   "metadata": {},
   "outputs": [
    {
     "data": {
      "text/plain": [
       "0.5"
      ]
     },
     "execution_count": 3,
     "metadata": {},
     "output_type": "execute_result"
    }
   ],
   "source": [
    "metrics.accuracy_score(np.zeros(len(df.index)),df[\"Winner\"])"
   ]
  },
  {
   "cell_type": "markdown",
   "metadata": {},
   "source": [
    "Baseline accuracy is 67.96 % in unbalanced dataset"
   ]
  },
  {
   "cell_type": "markdown",
   "metadata": {},
   "source": [
    "## ML Models\n",
    "### 1- DNN:\n",
    "Using a deep neural network with early stopping functionality to prevent divergence of loss & val_loss"
   ]
  },
  {
   "cell_type": "code",
   "execution_count": 4,
   "metadata": {
    "scrolled": true
   },
   "outputs": [
    {
     "name": "stdout",
     "output_type": "stream",
     "text": [
      "X_train shape: (2404, 42) | X_test shape: (268, 42) | y_train shape: (2404,) | y_test shape: (268,)\n"
     ]
    }
   ],
   "source": [
    "# scaling\n",
    "scaler = MinMaxScaler()\n",
    "scaler.fit(X_TRAIN)\n",
    "X_train = scaler.transform(X_TRAIN)\n",
    "X_test = scaler.transform(X_TEST)\n",
    "y_train = y_TRAIN\n",
    "y_test = y_TEST\n",
    "print(f\"X_train shape: {X_train.shape} | X_test shape: {X_test.shape} | y_train shape: {y_train.shape} | y_test shape: {y_test.shape}\")\n",
    "\n",
    "# model\n",
    "dnnClf = Sequential()\n",
    "\n",
    "# input layer\n",
    "dnnClf.add(Dense(units=42, activation='relu'))\n",
    "dnnClf.add(Dropout(0.5)) # deactivates 50% of nodes\n",
    "\n",
    "dnnClf.add(Dense(units=42, activation='relu'))\n",
    "dnnClf.add(Dropout(0.5)) # deactivates 50% of nodes\n",
    "\n",
    "#dnnClf.add(Dense(units=42, activation='relu'))\n",
    "#dnnClf.add(Dropout(0.5)) # deactivates 50% of nodes\n",
    "\n",
    "#dnnClf.add(Dense(units=42, activation='relu'))\n",
    "\n",
    "#dnnClf.add(Dense(units=42, activation='relu'))\n",
    "\n",
    "# output layer\n",
    "dnnClf.add(Dense(units=1, activation='sigmoid'))\n",
    "\n",
    "dnnClf.compile(loss='binary_crossentropy', optimizer='adam', metrics=['accuracy'])\n",
    "\n",
    "from tensorflow.keras.callbacks import EarlyStopping # prevent divergence of loss & val_loss\n",
    "early_stop = EarlyStopping(monitor='val_loss', mode='min', verbose=1, patience=16)"
   ]
  },
  {
   "cell_type": "code",
   "execution_count": 5,
   "metadata": {
    "scrolled": true
   },
   "outputs": [
    {
     "name": "stdout",
     "output_type": "stream",
     "text": [
      "Train on 2404 samples, validate on 268 samples\n",
      "Epoch 1/400\n",
      "2404/2404 [==============================] - 2s 903us/sample - loss: 0.6977 - accuracy: 0.5270 - val_loss: 0.6932 - val_accuracy: 0.4925\n",
      "Epoch 2/400\n",
      "2404/2404 [==============================] - 0s 149us/sample - loss: 0.6946 - accuracy: 0.5062 - val_loss: 0.6902 - val_accuracy: 0.5037\n",
      "Epoch 3/400\n",
      "2404/2404 [==============================] - 0s 153us/sample - loss: 0.6919 - accuracy: 0.5316 - val_loss: 0.6934 - val_accuracy: 0.5000\n",
      "Epoch 4/400\n",
      "2404/2404 [==============================] - 0s 157us/sample - loss: 0.6891 - accuracy: 0.5324 - val_loss: 0.6877 - val_accuracy: 0.5448\n",
      "Epoch 5/400\n",
      "2404/2404 [==============================] - 1s 312us/sample - loss: 0.6818 - accuracy: 0.5574 - val_loss: 0.6863 - val_accuracy: 0.5560\n",
      "Epoch 6/400\n",
      "2404/2404 [==============================] - 0s 160us/sample - loss: 0.6842 - accuracy: 0.5607 - val_loss: 0.6837 - val_accuracy: 0.5634\n",
      "Epoch 7/400\n",
      "2404/2404 [==============================] - 0s 188us/sample - loss: 0.6865 - accuracy: 0.5399 - val_loss: 0.6821 - val_accuracy: 0.5522\n",
      "Epoch 8/400\n",
      "2404/2404 [==============================] - 0s 155us/sample - loss: 0.6783 - accuracy: 0.5782 - val_loss: 0.6785 - val_accuracy: 0.5709\n",
      "Epoch 9/400\n",
      "2404/2404 [==============================] - 0s 174us/sample - loss: 0.6809 - accuracy: 0.5591 - val_loss: 0.6780 - val_accuracy: 0.5672\n",
      "Epoch 10/400\n",
      "2404/2404 [==============================] - 1s 210us/sample - loss: 0.6768 - accuracy: 0.5703 - val_loss: 0.6793 - val_accuracy: 0.5746\n",
      "Epoch 11/400\n",
      "2404/2404 [==============================] - 0s 162us/sample - loss: 0.6702 - accuracy: 0.5807 - val_loss: 0.6744 - val_accuracy: 0.5634\n",
      "Epoch 12/400\n",
      "2404/2404 [==============================] - 0s 168us/sample - loss: 0.6727 - accuracy: 0.5878 - val_loss: 0.6748 - val_accuracy: 0.5821\n",
      "Epoch 13/400\n",
      "2404/2404 [==============================] - 1s 310us/sample - loss: 0.6684 - accuracy: 0.5857 - val_loss: 0.6711 - val_accuracy: 0.5672\n",
      "Epoch 14/400\n",
      "2404/2404 [==============================] - 0s 193us/sample - loss: 0.6642 - accuracy: 0.5978 - val_loss: 0.6717 - val_accuracy: 0.6007\n",
      "Epoch 15/400\n",
      "2404/2404 [==============================] - 0s 176us/sample - loss: 0.6604 - accuracy: 0.5982 - val_loss: 0.6664 - val_accuracy: 0.5858\n",
      "Epoch 16/400\n",
      "2404/2404 [==============================] - 1s 208us/sample - loss: 0.6634 - accuracy: 0.5940 - val_loss: 0.6685 - val_accuracy: 0.5970\n",
      "Epoch 17/400\n",
      "2404/2404 [==============================] - 1s 291us/sample - loss: 0.6601 - accuracy: 0.5940 - val_loss: 0.6623 - val_accuracy: 0.5896\n",
      "Epoch 18/400\n",
      "2404/2404 [==============================] - 0s 189us/sample - loss: 0.6674 - accuracy: 0.6057 - val_loss: 0.6657 - val_accuracy: 0.5784\n",
      "Epoch 19/400\n",
      "2404/2404 [==============================] - 1s 341us/sample - loss: 0.6622 - accuracy: 0.5982 - val_loss: 0.6699 - val_accuracy: 0.5784\n",
      "Epoch 20/400\n",
      "2404/2404 [==============================] - 0s 191us/sample - loss: 0.6611 - accuracy: 0.6065 - val_loss: 0.6662 - val_accuracy: 0.6007\n",
      "Epoch 21/400\n",
      "2404/2404 [==============================] - 0s 170us/sample - loss: 0.6569 - accuracy: 0.6019 - val_loss: 0.6612 - val_accuracy: 0.6007\n",
      "Epoch 22/400\n",
      "2404/2404 [==============================] - 0s 171us/sample - loss: 0.6545 - accuracy: 0.5990 - val_loss: 0.6605 - val_accuracy: 0.6007\n",
      "Epoch 23/400\n",
      "2404/2404 [==============================] - 0s 175us/sample - loss: 0.6521 - accuracy: 0.6161 - val_loss: 0.6606 - val_accuracy: 0.6007\n",
      "Epoch 24/400\n",
      "2404/2404 [==============================] - 0s 155us/sample - loss: 0.6476 - accuracy: 0.6111 - val_loss: 0.6653 - val_accuracy: 0.5933\n",
      "Epoch 25/400\n",
      "2404/2404 [==============================] - 0s 176us/sample - loss: 0.6551 - accuracy: 0.6115 - val_loss: 0.6693 - val_accuracy: 0.5896\n",
      "Epoch 26/400\n",
      "2404/2404 [==============================] - 0s 172us/sample - loss: 0.6545 - accuracy: 0.6181 - val_loss: 0.6656 - val_accuracy: 0.5896\n",
      "Epoch 27/400\n",
      "2404/2404 [==============================] - 0s 163us/sample - loss: 0.6490 - accuracy: 0.6173 - val_loss: 0.6612 - val_accuracy: 0.5858\n",
      "Epoch 28/400\n",
      "2404/2404 [==============================] - 0s 168us/sample - loss: 0.6444 - accuracy: 0.6227 - val_loss: 0.6631 - val_accuracy: 0.5896\n",
      "Epoch 29/400\n",
      "2404/2404 [==============================] - 0s 189us/sample - loss: 0.6449 - accuracy: 0.6152 - val_loss: 0.6632 - val_accuracy: 0.5933\n",
      "Epoch 30/400\n",
      "2404/2404 [==============================] - 0s 186us/sample - loss: 0.6488 - accuracy: 0.6082 - val_loss: 0.6615 - val_accuracy: 0.5821\n",
      "Epoch 31/400\n",
      "2404/2404 [==============================] - 1s 286us/sample - loss: 0.6409 - accuracy: 0.6269 - val_loss: 0.6647 - val_accuracy: 0.5858\n",
      "Epoch 32/400\n",
      "2404/2404 [==============================] - 0s 172us/sample - loss: 0.6464 - accuracy: 0.6265 - val_loss: 0.6703 - val_accuracy: 0.5746\n",
      "Epoch 33/400\n",
      "2404/2404 [==============================] - 0s 171us/sample - loss: 0.6453 - accuracy: 0.6194 - val_loss: 0.6620 - val_accuracy: 0.5858\n",
      "Epoch 34/400\n",
      "2404/2404 [==============================] - 0s 165us/sample - loss: 0.6371 - accuracy: 0.6273 - val_loss: 0.6645 - val_accuracy: 0.5709\n",
      "Epoch 35/400\n",
      "2404/2404 [==============================] - 0s 189us/sample - loss: 0.6425 - accuracy: 0.6202 - val_loss: 0.6674 - val_accuracy: 0.5896\n",
      "Epoch 36/400\n",
      "2404/2404 [==============================] - 0s 180us/sample - loss: 0.6382 - accuracy: 0.6206 - val_loss: 0.6682 - val_accuracy: 0.6157\n",
      "Epoch 37/400\n",
      "2404/2404 [==============================] - 1s 283us/sample - loss: 0.6346 - accuracy: 0.6377 - val_loss: 0.6675 - val_accuracy: 0.6007\n",
      "Epoch 38/400\n",
      "2404/2404 [==============================] - 0s 176us/sample - loss: 0.6374 - accuracy: 0.6319 - val_loss: 0.6763 - val_accuracy: 0.6045\n",
      "Epoch 00038: early stopping\n"
     ]
    },
    {
     "data": {
      "text/plain": [
       "<matplotlib.axes._subplots.AxesSubplot at 0x1a4324cad0>"
      ]
     },
     "execution_count": 5,
     "metadata": {},
     "output_type": "execute_result"
    },
    {
     "data": {
      "image/png": "[encoded data removed]",
      "text/plain": [
       "<Figure size 432x288 with 1 Axes>"
      ]
     },
     "metadata": {
      "needs_background": "light"
     },
     "output_type": "display_data"
    }
   ],
   "source": [
    "dnnClf.fit(x=X_train, \n",
    "          y=y_train, \n",
    "          epochs=400,\n",
    "          validation_data=(X_test, y_test), verbose=1,\n",
    "          callbacks=[early_stop]\n",
    "          )\n",
    "model_loss = pd.DataFrame(dnnClf.history.history)\n",
    "model_loss.plot()"
   ]
  },
  {
   "cell_type": "code",
   "execution_count": 6,
   "metadata": {},
   "outputs": [
    {
     "name": "stdout",
     "output_type": "stream",
     "text": [
      "DNN Accuracy: 0.604\n"
     ]
    }
   ],
   "source": [
    "dnnPreds = dnnClf.predict(scaler.transform(X_TEST))\n",
    "dnnPreds = [round(i[0]) for i in dnnPreds]\n",
    "dnnAcc = metrics.accuracy_score(dnnPreds, y_TEST)\n",
    "print(\"DNN Accuracy:\",round(dnnAcc,3))"
   ]
  },
  {
   "cell_type": "markdown",
   "metadata": {},
   "source": [
    "### 2- SVM:\n",
    "Using a Support Vector Machine with a linear kernel"
   ]
  },
  {
   "cell_type": "code",
   "execution_count": 7,
   "metadata": {},
   "outputs": [
    {
     "name": "stdout",
     "output_type": "stream",
     "text": [
      "SVM Accuracy: 0.601\n"
     ]
    }
   ],
   "source": [
    "svmClf = SVC(kernel=\"linear\")\n",
    "svmClf.fit(X_TRAIN,y_TRAIN)\n",
    "svmPreds = svmClf.predict(X_TEST)\n",
    "svmAcc = metrics.accuracy_score(svmPreds, y_TEST)\n",
    "print(\"SVM Accuracy:\",round(svmAcc,3))\n",
    "\n",
    "# svm hp-tuning with gridSearch\n",
    "#svm_param = {\"kernel\":(\"linear\",\"poly\",\"rbf\", \"sigmoid\"),\n",
    "#            \"C\":[1,52,10],\n",
    "#            \"degree\":[3,8],\n",
    "#            \"gamma\":(\"auto\",\"scale\"),\n",
    "#            \"coef0\":[0.001,10,0.5]}\n",
    "#svmClf = SVC()\n",
    "#svmGrid = GridSearchCV(svmClf, svm_param,cv=2)\n",
    "#svmGrid.fit(X_TRAIN, y_TRAIN)"
   ]
  },
  {
   "cell_type": "markdown",
   "metadata": {},
   "source": [
    "### 3- RF:\n",
    "Random Forest"
   ]
  },
  {
   "cell_type": "code",
   "execution_count": 8,
   "metadata": {},
   "outputs": [
    {
     "name": "stdout",
     "output_type": "stream",
     "text": [
      "RF Accuracy: 0.601\n"
     ]
    }
   ],
   "source": [
    "rfClf = RandomForestRegressor(n_estimators = 100, random_state = SEED)\n",
    "rfClf.fit(X_TRAIN, y_TRAIN)\n",
    "rfPreds = rfClf.predict(X_TEST)\n",
    "rfPreds = [round(i) for i in rfPreds]\n",
    "rfAcc = metrics.accuracy_score(rfPreds,y_TEST)\n",
    "print(\"RF Accuracy:\",round(rfAcc,3))"
   ]
  },
  {
   "cell_type": "markdown",
   "metadata": {},
   "source": [
    "### 4- Ensemble Method:\n",
    "Ensemble method aggregates the votes of each model and gives the most frequent vote as output"
   ]
  },
  {
   "cell_type": "code",
   "execution_count": 9,
   "metadata": {},
   "outputs": [
    {
     "name": "stdout",
     "output_type": "stream",
     "text": [
      "============================================================================================================================================================================================================================================================================\n",
      "Ensemble Accuracy: 0.612\n"
     ]
    }
   ],
   "source": [
    "def predictEnsemble(sample):\n",
    "    print(\"=\",end=\"\")\n",
    "    dnnPred = dnnClf.predict(scaler.transform(sample.reshape(1,-1))).tolist()[0][0]\n",
    "    svmPred = svmClf.predict(sample.reshape(1,-1)).tolist()[0]\n",
    "    rfPred = rfClf.predict(sample.reshape(1,-1)).tolist()[0]\n",
    "    \n",
    "    ensPred = []\n",
    "    ensPred.append([dnnPred,svmPred,rfPred])\n",
    "    ensPred = [round(i) for i in ensPred[0]]\n",
    "    #print(ensPred)\n",
    "    \n",
    "    return(max(set(ensPred), key=ensPred.count)) # return mode, i.e: most frequent\n",
    "\n",
    "ensPreds = []\n",
    "[ensPreds.append(predictEnsemble(e)) for e in X_TEST]\n",
    "ensAcc = metrics.accuracy_score(ensPreds,y_TEST)\n",
    "print(\"\\nEnsemble Accuracy:\",round(ensAcc,3))"
   ]
  },
  {
   "cell_type": "markdown",
   "metadata": {},
   "source": [
    "## Performance Evaluation:"
   ]
  },
  {
   "cell_type": "code",
   "execution_count": 10,
   "metadata": {},
   "outputs": [
    {
     "name": "stdout",
     "output_type": "stream",
     "text": [
      "Accuracy on unseen test dataset\n",
      "DNN Accuracy: 0.627\n",
      "SVM Accuracy: 0.608\n",
      "RF Accuracy: 0.584\n",
      "================================================================================================================================================================================================================================================================================================================================================================================================================================================================================\n",
      "Ensemble Accuracy: 0.634\n"
     ]
    }
   ],
   "source": [
    "print(\"Accuracy on unseen test dataset\")\n",
    "TEST = pd.read_csv(\"UFC_TEST.csv\")\n",
    "TESTX = TEST.drop([\"date\",\"B_fighter\",\"R_fighter\",\"Winner\"],axis=1).values\n",
    "TESTY = TEST[\"Winner\"].values\n",
    "\n",
    "dnnPreds2 = dnnClf.predict(scaler.transform(TESTX))\n",
    "dnnPreds2 = [round(i[0]) for i in dnnPreds2]\n",
    "dnnAcc2 = metrics.accuracy_score(dnnPreds2, TESTY)\n",
    "print(\"DNN Accuracy:\",round(dnnAcc2,3))\n",
    "\n",
    "svmPreds2 = svmClf.predict(TESTX)\n",
    "svmAcc2 = metrics.accuracy_score(svmPreds2, TESTY)\n",
    "print(\"SVM Accuracy:\",round(svmAcc2,3))\n",
    "\n",
    "rfPreds2 = rfClf.predict(TESTX)\n",
    "rfPreds2 = [round(i) for i in rfPreds2]\n",
    "rfAcc2 = metrics.accuracy_score(rfPreds2, TESTY)\n",
    "print(\"RF Accuracy:\",round(rfAcc2,3))\n",
    "\n",
    "ensPreds2 = []\n",
    "[ensPreds2.append(predictEnsemble(e)) for e in TESTX]\n",
    "ensAcc2 = metrics.accuracy_score(ensPreds2,TESTY)\n",
    "print(\"\\nEnsemble Accuracy:\",round(ensAcc2,3))"
   ]
  },
  {
   "cell_type": "code",
   "execution_count": 12,
   "metadata": {},
   "outputs": [
    {
     "data": {
      "text/plain": [
       "<matplotlib.axes._subplots.AxesSubplot at 0x1a43d10f10>"
      ]
     },
     "execution_count": 12,
     "metadata": {},
     "output_type": "execute_result"
    },
    {
     "data": {
      "image/png": "[encoded data removed]",
      "text/plain": [
       "<Figure size 432x288 with 1 Axes>"
      ]
     },
     "metadata": {
      "needs_background": "light"
     },
     "output_type": "display_data"
    }
   ],
   "source": [
    "accTable = pd.DataFrame({\"Model\":[\"DNN\",\"SVM\",\"RF\",\"Ensemble\"], \"Val_Accuracy\":[dnnAcc,svmAcc,rfAcc,ensAcc],\n",
    "                         \"Test_Accuracy\":[dnnAcc2,svmAcc2,rfAcc2,ensAcc2]})\n",
    "accTable.plot(kind=\"bar\",ylim=(0.55,0.65),x=\"Model\",title=\"Models Performance on Validation and Test Data\")"
   ]
  },
  {
   "cell_type": "code",
   "execution_count": null,
   "metadata": {},
   "outputs": [],
   "source": []
  }
 ],
 "metadata": {
  "kernelspec": {
   "display_name": "Python 3",
   "language": "python",
   "name": "python3"
  },
  "language_info": {
   "codemirror_mode": {
    "name": "ipython",
    "version": 3
   },
   "file_extension": ".py",
   "mimetype": "text/x-python",
   "name": "python",
   "nbconvert_exporter": "python",
   "pygments_lexer": "ipython3",
   "version": "3.7.4"
  }
 },
 "nbformat": 4,
 "nbformat_minor": 4
}
