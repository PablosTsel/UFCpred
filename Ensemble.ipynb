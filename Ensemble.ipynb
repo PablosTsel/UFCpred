{
 "cells": [
  {
   "cell_type": "markdown",
   "metadata": {},
   "source": [
    "# Machine Learning Models and Ensemble Method\n",
    "---\n"
   ]
  },
  {
   "cell_type": "code",
   "execution_count": 1,
   "metadata": {},
   "outputs": [],
   "source": [
    "import os\n",
    "os.environ[\"CUDA_VISIBLE_DEVICES\"] = \"-1\" # disable GPU\n",
    "import pandas as pd\n",
    "import numpy as np\n",
    "import matplotlib.pyplot as plt\n",
    "%matplotlib inline\n",
    "\n",
    "from sklearn.model_selection import train_test_split\n",
    "from sklearn.preprocessing import MinMaxScaler\n",
    "from sklearn import metrics\n",
    "from sklearn.svm import SVC\n",
    "from sklearn.ensemble import RandomForestRegressor\n",
    "\n",
    "import tensorflow as tf\n",
    "from tensorflow.keras.models import Sequential\n",
    "from tensorflow.keras.layers import Dense, Activation,Dropout\n",
    "\n",
    "SEED = 111 # constant seed for reproducibility\n",
    "os.environ['PYTHONHASHSEED'] = str(SEED)\n",
    "np.random.seed(SEED)\n",
    "tf.random.set_seed(SEED)\n"
   ]
  },
  {
   "cell_type": "markdown",
   "metadata": {},
   "source": [
    "## Train/Test Split:"
   ]
  },
  {
   "cell_type": "code",
   "execution_count": 132,
   "metadata": {},
   "outputs": [],
   "source": [
    "df = pd.read_csv(\"UFC_TRAIN.csv\")\n",
    "\n",
    "# tackling imbalance issue\n",
    "theMin = df[\"Winner\"].value_counts().min()\n",
    "minority = df[df[\"Winner\"]==1].iloc[0:theMin]\n",
    "undersampleMaj = df[df[\"Winner\"]==0].iloc[0:theMin]\n",
    "df = pd.concat([minority, undersampleMaj], axis=0)\n",
    "df[\"Winner\"].value_counts()\n",
    "\n",
    "# train/test split\n",
    "X = df.drop([\"Winner\",\"B_fighter\",\"R_fighter\"], axis=1).values\n",
    "y = df[\"Winner\"].values\n",
    "X_TRAIN, X_TEST, y_TRAIN, y_TEST = train_test_split(X,y, test_size=0.1, random_state=SEED)\n",
    "\n"
   ]
  },
  {
   "cell_type": "markdown",
   "metadata": {},
   "source": [
    "## ML Models\n",
    "### 1- DNN:"
   ]
  },
  {
   "cell_type": "code",
   "execution_count": 133,
   "metadata": {
    "scrolled": true
   },
   "outputs": [
    {
     "name": "stdout",
     "output_type": "stream",
     "text": [
      "X_train shape: (2404, 42) | X_test shape: (268, 42) | y_train shape: (2404,) | y_test shape: (268,)\n"
     ]
    }
   ],
   "source": [
    "# scaling\n",
    "scaler = MinMaxScaler()\n",
    "scaler.fit(X_TRAIN)\n",
    "X_train = scaler.transform(X_TRAIN)\n",
    "X_test = scaler.transform(X_TEST)\n",
    "y_train = y_TRAIN\n",
    "y_test = y_TEST\n",
    "print(f\"X_train shape: {X_train.shape} | X_test shape: {X_test.shape} | y_train shape: {y_train.shape} | y_test shape: {y_test.shape}\")\n",
    "\n",
    "# model\n",
    "dnnClf = Sequential()\n",
    "\n",
    "# input layer\n",
    "dnnClf.add(Dense(units=42, activation='relu'))\n",
    "dnnClf.add(Dropout(0.5)) # deactivates 50% of nodes\n",
    "\n",
    "# h1\n",
    "dnnClf.add(Dense(units=42, activation='relu'))\n",
    "dnnClf.add(Dropout(0.5))\n",
    "\n",
    "# h2\n",
    "dnnClf.add(Dense(units=42, activation='relu'))\n",
    "dnnClf.add(Dropout(0.5))\n",
    "\n",
    "# output layer\n",
    "dnnClf.add(Dense(units=1, activation='sigmoid'))\n",
    "\n",
    "dnnClf.compile(loss='binary_crossentropy', optimizer='adam', metrics=['accuracy'])\n",
    "\n",
    "from tensorflow.keras.callbacks import EarlyStopping # prevent diverge of loss & val_loss\n",
    "early_stop = EarlyStopping(monitor='val_loss', mode='min', verbose=1, patience=16)"
   ]
  },
  {
   "cell_type": "code",
   "execution_count": 134,
   "metadata": {
    "scrolled": true
   },
   "outputs": [
    {
     "name": "stdout",
     "output_type": "stream",
     "text": [
      "Train on 2404 samples, validate on 268 samples\n",
      "Epoch 1/500\n",
      "2404/2404 [==============================] - 3s 1ms/sample - loss: 0.6998 - accuracy: 0.5012 - val_loss: 0.6962 - val_accuracy: 0.4739\n",
      "Epoch 2/500\n",
      "2404/2404 [==============================] - ETA: 0s - loss: 0.6986 - accuracy: 0.50 - 0s 173us/sample - loss: 0.6986 - accuracy: 0.4979 - val_loss: 0.6942 - val_accuracy: 0.4590\n",
      "Epoch 3/500\n",
      "2404/2404 [==============================] - 1s 306us/sample - loss: 0.6908 - accuracy: 0.5266 - val_loss: 0.6934 - val_accuracy: 0.4701\n",
      "Epoch 4/500\n",
      "2404/2404 [==============================] - 1s 271us/sample - loss: 0.6942 - accuracy: 0.5129 - val_loss: 0.6942 - val_accuracy: 0.4888\n",
      "Epoch 5/500\n",
      "2404/2404 [==============================] - 1s 222us/sample - loss: 0.6922 - accuracy: 0.5108 - val_loss: 0.6936 - val_accuracy: 0.4627\n",
      "Epoch 6/500\n",
      "2404/2404 [==============================] - 1s 275us/sample - loss: 0.6890 - accuracy: 0.5395 - val_loss: 0.6940 - val_accuracy: 0.4813\n",
      "Epoch 7/500\n",
      "2404/2404 [==============================] - 1s 213us/sample - loss: 0.6928 - accuracy: 0.5171 - val_loss: 0.6908 - val_accuracy: 0.5299\n",
      "Epoch 8/500\n",
      "2404/2404 [==============================] - 0s 168us/sample - loss: 0.6907 - accuracy: 0.5233 - val_loss: 0.6898 - val_accuracy: 0.5187\n",
      "Epoch 9/500\n",
      "2404/2404 [==============================] - 0s 192us/sample - loss: 0.6878 - accuracy: 0.5420 - val_loss: 0.6862 - val_accuracy: 0.5410\n",
      "Epoch 10/500\n",
      "2404/2404 [==============================] - 0s 180us/sample - loss: 0.6886 - accuracy: 0.5370 - val_loss: 0.6880 - val_accuracy: 0.5299\n",
      "Epoch 11/500\n",
      "2404/2404 [==============================] - 0s 171us/sample - loss: 0.6801 - accuracy: 0.5595 - val_loss: 0.6897 - val_accuracy: 0.5373\n",
      "Epoch 12/500\n",
      "2404/2404 [==============================] - 0s 187us/sample - loss: 0.6814 - accuracy: 0.5645 - val_loss: 0.6854 - val_accuracy: 0.5784\n",
      "Epoch 13/500\n",
      "2404/2404 [==============================] - 0s 187us/sample - loss: 0.6833 - accuracy: 0.5578 - val_loss: 0.6807 - val_accuracy: 0.5970\n",
      "Epoch 14/500\n",
      "2404/2404 [==============================] - 0s 176us/sample - loss: 0.6827 - accuracy: 0.5557 - val_loss: 0.6831 - val_accuracy: 0.5746\n",
      "Epoch 15/500\n",
      "2404/2404 [==============================] - 0s 168us/sample - loss: 0.6787 - accuracy: 0.5632 - val_loss: 0.6798 - val_accuracy: 0.5858\n",
      "Epoch 16/500\n",
      "2404/2404 [==============================] - 0s 176us/sample - loss: 0.6772 - accuracy: 0.5828 - val_loss: 0.6781 - val_accuracy: 0.6045\n",
      "Epoch 17/500\n",
      "2404/2404 [==============================] - 0s 193us/sample - loss: 0.6784 - accuracy: 0.5666 - val_loss: 0.6766 - val_accuracy: 0.6157\n",
      "Epoch 18/500\n",
      "2404/2404 [==============================] - 1s 248us/sample - loss: 0.6704 - accuracy: 0.5878 - val_loss: 0.6787 - val_accuracy: 0.5821\n",
      "Epoch 19/500\n",
      "2404/2404 [==============================] - 0s 184us/sample - loss: 0.6678 - accuracy: 0.5882 - val_loss: 0.6766 - val_accuracy: 0.6007\n",
      "Epoch 20/500\n",
      "2404/2404 [==============================] - 0s 193us/sample - loss: 0.6694 - accuracy: 0.5969 - val_loss: 0.6740 - val_accuracy: 0.6119\n",
      "Epoch 21/500\n",
      "2404/2404 [==============================] - 0s 168us/sample - loss: 0.6697 - accuracy: 0.5932 - val_loss: 0.6653 - val_accuracy: 0.6231\n",
      "Epoch 22/500\n",
      "2404/2404 [==============================] - 0s 187us/sample - loss: 0.6643 - accuracy: 0.5961 - val_loss: 0.6664 - val_accuracy: 0.5933\n",
      "Epoch 23/500\n",
      "2404/2404 [==============================] - 0s 177us/sample - loss: 0.6626 - accuracy: 0.5957 - val_loss: 0.6626 - val_accuracy: 0.6194\n",
      "Epoch 24/500\n",
      "2404/2404 [==============================] - 0s 181us/sample - loss: 0.6637 - accuracy: 0.5944 - val_loss: 0.6646 - val_accuracy: 0.6231\n",
      "Epoch 25/500\n",
      "2404/2404 [==============================] - 0s 186us/sample - loss: 0.6563 - accuracy: 0.6011 - val_loss: 0.6609 - val_accuracy: 0.6231\n",
      "Epoch 26/500\n",
      "2404/2404 [==============================] - 0s 188us/sample - loss: 0.6596 - accuracy: 0.6082 - val_loss: 0.6635 - val_accuracy: 0.6045\n",
      "Epoch 27/500\n",
      "2404/2404 [==============================] - 0s 165us/sample - loss: 0.6561 - accuracy: 0.6044 - val_loss: 0.6596 - val_accuracy: 0.6269\n",
      "Epoch 28/500\n",
      "2404/2404 [==============================] - 0s 168us/sample - loss: 0.6603 - accuracy: 0.6019 - val_loss: 0.6607 - val_accuracy: 0.6231\n",
      "Epoch 29/500\n",
      "2404/2404 [==============================] - 0s 183us/sample - loss: 0.6570 - accuracy: 0.6040 - val_loss: 0.6695 - val_accuracy: 0.6194\n",
      "Epoch 30/500\n",
      "2404/2404 [==============================] - 0s 196us/sample - loss: 0.6564 - accuracy: 0.6131 - val_loss: 0.6611 - val_accuracy: 0.6119\n",
      "Epoch 31/500\n",
      "2404/2404 [==============================] - 0s 178us/sample - loss: 0.6506 - accuracy: 0.6290 - val_loss: 0.6628 - val_accuracy: 0.6194\n",
      "Epoch 32/500\n",
      "2404/2404 [==============================] - 0s 183us/sample - loss: 0.6585 - accuracy: 0.6082 - val_loss: 0.6609 - val_accuracy: 0.6119\n",
      "Epoch 33/500\n",
      "2404/2404 [==============================] - 0s 186us/sample - loss: 0.6489 - accuracy: 0.6210 - val_loss: 0.6612 - val_accuracy: 0.6119\n",
      "Epoch 34/500\n",
      "2404/2404 [==============================] - 0s 178us/sample - loss: 0.6481 - accuracy: 0.6310 - val_loss: 0.6566 - val_accuracy: 0.6269\n",
      "Epoch 35/500\n",
      "2404/2404 [==============================] - 0s 164us/sample - loss: 0.6496 - accuracy: 0.6190 - val_loss: 0.6651 - val_accuracy: 0.5970\n",
      "Epoch 36/500\n",
      "2404/2404 [==============================] - 0s 171us/sample - loss: 0.6588 - accuracy: 0.6173 - val_loss: 0.6720 - val_accuracy: 0.6157\n",
      "Epoch 37/500\n",
      "2404/2404 [==============================] - 0s 191us/sample - loss: 0.6485 - accuracy: 0.6256 - val_loss: 0.6747 - val_accuracy: 0.6119\n",
      "Epoch 38/500\n",
      "2404/2404 [==============================] - 0s 171us/sample - loss: 0.6441 - accuracy: 0.6215 - val_loss: 0.6564 - val_accuracy: 0.6157\n",
      "Epoch 39/500\n",
      "2404/2404 [==============================] - 1s 326us/sample - loss: 0.6426 - accuracy: 0.6269 - val_loss: 0.6621 - val_accuracy: 0.5970\n",
      "Epoch 40/500\n",
      "2404/2404 [==============================] - 0s 198us/sample - loss: 0.6523 - accuracy: 0.6102 - val_loss: 0.6713 - val_accuracy: 0.6119\n",
      "Epoch 41/500\n",
      "2404/2404 [==============================] - 0s 191us/sample - loss: 0.6375 - accuracy: 0.6285 - val_loss: 0.6695 - val_accuracy: 0.6119\n",
      "Epoch 42/500\n",
      "2404/2404 [==============================] - 0s 195us/sample - loss: 0.6453 - accuracy: 0.6227 - val_loss: 0.6653 - val_accuracy: 0.5896\n",
      "Epoch 43/500\n",
      "2404/2404 [==============================] - 0s 192us/sample - loss: 0.6439 - accuracy: 0.6240 - val_loss: 0.6801 - val_accuracy: 0.6119\n",
      "Epoch 44/500\n",
      "2404/2404 [==============================] - ETA: 0s - loss: 0.6369 - accuracy: 0.62 - 1s 330us/sample - loss: 0.6377 - accuracy: 0.6219 - val_loss: 0.6606 - val_accuracy: 0.6306\n",
      "Epoch 45/500\n",
      "2404/2404 [==============================] - 1s 271us/sample - loss: 0.6438 - accuracy: 0.6273 - val_loss: 0.6638 - val_accuracy: 0.6231\n",
      "Epoch 46/500\n",
      "2404/2404 [==============================] - 0s 170us/sample - loss: 0.6359 - accuracy: 0.6310 - val_loss: 0.6619 - val_accuracy: 0.6157\n",
      "Epoch 47/500\n",
      "2404/2404 [==============================] - 0s 188us/sample - loss: 0.6424 - accuracy: 0.6369 - val_loss: 0.6635 - val_accuracy: 0.6157\n",
      "Epoch 48/500\n",
      "2404/2404 [==============================] - 0s 159us/sample - loss: 0.6379 - accuracy: 0.6385 - val_loss: 0.6650 - val_accuracy: 0.6269\n",
      "Epoch 49/500\n",
      "2404/2404 [==============================] - 0s 177us/sample - loss: 0.6419 - accuracy: 0.6231 - val_loss: 0.6652 - val_accuracy: 0.6119\n",
      "Epoch 50/500\n",
      "2404/2404 [==============================] - 0s 183us/sample - loss: 0.6381 - accuracy: 0.6190 - val_loss: 0.6669 - val_accuracy: 0.6194\n",
      "Epoch 51/500\n",
      "2404/2404 [==============================] - 1s 386us/sample - loss: 0.6429 - accuracy: 0.6319 - val_loss: 0.6559 - val_accuracy: 0.6231\n",
      "Epoch 52/500\n",
      "2404/2404 [==============================] - 1s 235us/sample - loss: 0.6379 - accuracy: 0.6335 - val_loss: 0.6707 - val_accuracy: 0.6194\n",
      "Epoch 53/500\n",
      "2404/2404 [==============================] - 0s 193us/sample - loss: 0.6410 - accuracy: 0.6323 - val_loss: 0.6599 - val_accuracy: 0.6157\n",
      "Epoch 54/500\n",
      "2404/2404 [==============================] - 1s 285us/sample - loss: 0.6388 - accuracy: 0.6290 - val_loss: 0.6661 - val_accuracy: 0.6194\n",
      "Epoch 55/500\n",
      "2404/2404 [==============================] - 1s 216us/sample - loss: 0.6368 - accuracy: 0.6473 - val_loss: 0.6660 - val_accuracy: 0.6194\n",
      "Epoch 56/500\n",
      "2404/2404 [==============================] - 0s 161us/sample - loss: 0.6361 - accuracy: 0.6381 - val_loss: 0.6610 - val_accuracy: 0.6455\n",
      "Epoch 57/500\n",
      "2404/2404 [==============================] - 0s 158us/sample - loss: 0.6336 - accuracy: 0.6398 - val_loss: 0.6577 - val_accuracy: 0.6082\n",
      "Epoch 58/500\n",
      "2404/2404 [==============================] - 0s 161us/sample - loss: 0.6277 - accuracy: 0.6502 - val_loss: 0.6695 - val_accuracy: 0.6045\n",
      "Epoch 59/500\n",
      "2404/2404 [==============================] - 1s 311us/sample - loss: 0.6355 - accuracy: 0.6319 - val_loss: 0.6663 - val_accuracy: 0.6269\n",
      "Epoch 60/500\n",
      "2404/2404 [==============================] - 1s 276us/sample - loss: 0.6290 - accuracy: 0.6452 - val_loss: 0.6613 - val_accuracy: 0.6194\n",
      "Epoch 61/500\n",
      "2404/2404 [==============================] - 0s 171us/sample - loss: 0.6329 - accuracy: 0.6335 - val_loss: 0.6726 - val_accuracy: 0.6082\n",
      "Epoch 62/500\n",
      "2404/2404 [==============================] - 0s 202us/sample - loss: 0.6356 - accuracy: 0.6398 - val_loss: 0.6656 - val_accuracy: 0.6157\n",
      "Epoch 63/500\n",
      "2404/2404 [==============================] - 0s 191us/sample - loss: 0.6313 - accuracy: 0.6435 - val_loss: 0.6718 - val_accuracy: 0.6157\n",
      "Epoch 64/500\n",
      "2404/2404 [==============================] - 0s 189us/sample - loss: 0.6398 - accuracy: 0.6352 - val_loss: 0.6658 - val_accuracy: 0.6007\n",
      "Epoch 65/500\n",
      "2404/2404 [==============================] - 0s 178us/sample - loss: 0.6286 - accuracy: 0.6452 - val_loss: 0.6706 - val_accuracy: 0.5933\n",
      "Epoch 66/500\n",
      "2404/2404 [==============================] - 0s 177us/sample - loss: 0.6247 - accuracy: 0.6369 - val_loss: 0.6630 - val_accuracy: 0.6381\n",
      "Epoch 67/500\n",
      "2404/2404 [==============================] - 0s 160us/sample - loss: 0.6336 - accuracy: 0.6377 - val_loss: 0.6640 - val_accuracy: 0.6082\n",
      "Epoch 00067: early stopping\n"
     ]
    },
    {
     "data": {
      "text/plain": [
       "<matplotlib.axes._subplots.AxesSubplot at 0x1a67f82210>"
      ]
     },
     "execution_count": 134,
     "metadata": {},
     "output_type": "execute_result"
    },
    {
     "data": {
      "image/png": "[encoded data removed]",
      "text/plain": [
       "<Figure size 432x288 with 1 Axes>"
      ]
     },
     "metadata": {
      "needs_background": "light"
     },
     "output_type": "display_data"
    }
   ],
   "source": [
    "dnnClf.fit(x=X_train, \n",
    "          y=y_train, \n",
    "          epochs=500,\n",
    "          validation_data=(X_test, y_test), verbose=1,\n",
    "          callbacks=[early_stop]\n",
    "          )\n",
    "model_loss = pd.DataFrame(dnnClf.history.history)\n",
    "model_loss.plot()"
   ]
  },
  {
   "cell_type": "code",
   "execution_count": 21,
   "metadata": {},
   "outputs": [
    {
     "name": "stdout",
     "output_type": "stream",
     "text": [
      "0.6380597014925373\n"
     ]
    }
   ],
   "source": [
    "dnnPreds = dnnClf.predict(scaler.transform(X_TEST))\n",
    "dnnPreds = [round(i[0]) for i in dnnPreds]\n",
    "dnnAcc = metrics.accuracy_score(dnnPreds, y_TEST)\n",
    "print(dnnAcc)"
   ]
  },
  {
   "cell_type": "markdown",
   "metadata": {},
   "source": [
    "### 2- SVM:"
   ]
  },
  {
   "cell_type": "code",
   "execution_count": 22,
   "metadata": {},
   "outputs": [
    {
     "name": "stdout",
     "output_type": "stream",
     "text": [
      "[LibSVM]0.5522388059701493\n"
     ]
    }
   ],
   "source": [
    "svmClf = SVC(gamma='auto',verbose=1)\n",
    "svmClf.fit(X_TRAIN, y_TRAIN)\n",
    "svmPreds = svmClf.predict(X_TEST)\n",
    "svmAcc = metrics.accuracy_score(svmPreds, y_TEST)\n",
    "print(svmAcc)"
   ]
  },
  {
   "cell_type": "markdown",
   "metadata": {},
   "source": [
    "### 3- RF:"
   ]
  },
  {
   "cell_type": "code",
   "execution_count": 24,
   "metadata": {},
   "outputs": [
    {
     "name": "stdout",
     "output_type": "stream",
     "text": [
      "0.6567164179104478\n"
     ]
    }
   ],
   "source": [
    "rfClf = RandomForestRegressor(n_estimators = 100, random_state = SEED)\n",
    "rfClf.fit(X_TRAIN, y_TRAIN)\n",
    "rfPreds = rfClf.predict(X_TEST)\n",
    "rfPreds = [round(i) for i in rfPreds]\n",
    "rfAcc = metrics.accuracy_score(rfPreds,y_TEST)\n",
    "print(rfAcc)\n"
   ]
  },
  {
   "cell_type": "markdown",
   "metadata": {},
   "source": [
    "### 4- Ensemble Method:"
   ]
  },
  {
   "cell_type": "code",
   "execution_count": 125,
   "metadata": {},
   "outputs": [
    {
     "data": {
      "text/plain": [
       "0.6492537313432836"
      ]
     },
     "execution_count": 125,
     "metadata": {},
     "output_type": "execute_result"
    }
   ],
   "source": [
    "def ensemble(sample):\n",
    "    ensPred = []\n",
    "    dnnPred = dnnClf.predict(scaler.transform(sample.reshape(1,-1))).tolist()[0][0]\n",
    "    svmPred = svmClf.predict(sample.reshape(1,-1)).tolist()[0]\n",
    "    rfPred = rfClf.predict(sample.reshape(1,-1)).tolist()[0]\n",
    "    \n",
    "    ensPred.append([dnnPred,svmPred,rfPred])\n",
    "    ensPred = [round(i) for i in ensPred[0]]\n",
    "    return(max(set(ensPred), key=ensPred.count))\n",
    "\n",
    "final_preds = []\n",
    "for i,e in enumerate(X_TEST):\n",
    "    final_preds.append(ensemble(e))\n",
    "    \n",
    "metrics.accuracy_score(final_preds,y_TEST)"
   ]
  },
  {
   "cell_type": "code",
   "execution_count": null,
   "metadata": {},
   "outputs": [],
   "source": []
  }
 ],
 "metadata": {
  "kernelspec": {
   "display_name": "Python 3",
   "language": "python",
   "name": "python3"
  },
  "language_info": {
   "codemirror_mode": {
    "name": "ipython",
    "version": 3
   },
   "file_extension": ".py",
   "mimetype": "text/x-python",
   "name": "python",
   "nbconvert_exporter": "python",
   "pygments_lexer": "ipython3",
   "version": "3.7.4"
  }
 },
 "nbformat": 4,
 "nbformat_minor": 4
}
